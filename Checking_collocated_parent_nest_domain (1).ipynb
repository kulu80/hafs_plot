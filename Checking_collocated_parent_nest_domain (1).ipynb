{
 "cells": [
  {
   "cell_type": "markdown",
   "metadata": {},
   "source": [
    "### Import necesaary libraryies "
   ]
  },
  {
   "cell_type": "code",
   "execution_count": 1,
   "metadata": {},
   "outputs": [
    {
     "data": {
      "text/plain": [
       "'C:\\\\Users\\\\bantwale.enyew\\\\python_netcdf\\\\mvnest_oro'"
      ]
     },
     "execution_count": 1,
     "metadata": {},
     "output_type": "execute_result"
    }
   ],
   "source": [
    "from pylab import *\n",
    "import netCDF4\n",
    "import numpy as np\n",
    "import os\n",
    "os.getcwd()"
   ]
  },
  {
   "cell_type": "code",
   "execution_count": 2,
   "metadata": {},
   "outputs": [],
   "source": [
    "#!conda  install --yes  pandas"
   ]
  },
  {
   "cell_type": "code",
   "execution_count": 3,
   "metadata": {},
   "outputs": [],
   "source": [
    "#! conda install --yes -c conda-forge xarray dask netCDF4 bottleneck"
   ]
  },
  {
   "cell_type": "code",
   "execution_count": 4,
   "metadata": {},
   "outputs": [],
   "source": [
    "import netCDF4 \n",
    "from pylab import *\n",
    "import matplotlib.pyplot as plt\n",
    "import numpy as np\n",
    "import pandas as pd\n",
    "import cartopy.crs as ccrs\n",
    "import xarray as xr\n",
    "import matplotlib.image as mgimg\n",
    "from matplotlib import animation\n",
    "import glob\n",
    "import os\n",
    "%matplotlib inline"
   ]
  },
  {
   "cell_type": "markdown",
   "metadata": {},
   "source": [
    "## Convert to physical grid resoultion\n",
    "This program computes the global equivalent resolution for regional grids. For example, a global grid with x/y dimensions of 96 would have a global resolution (CRES) of C96. And the approximate physical resolution would be:\n",
    "\n",
    "*Res in km = (360 degrees / 4*CRES) * 111 km = 104 km\n",
    "\n",
    "Using the average cell size (in m^2) of the regional grid, the equivalent global resolution is computed according to:\n",
    "\n",
    "*CRES = nint( (2*pi*rad_earth)/(4*avg_cell_size) )\n"
   ]
  },
  {
   "cell_type": "code",
   "execution_count": 6,
   "metadata": {},
   "outputs": [],
   "source": [
    "def Conv2phyres( cres ):\n",
    "    \n",
    "    Rkm=(360/(4*cres))*111\n",
    "    \n",
    "    return Rkm\n",
    "\n",
    "rad_earth=6371200.0\n",
    "def Con2equ_globres(avg_cell_size):\n",
    "    \n",
    "    cres=int((2*(np.pi)*rad_earth)/(4*avg_cell_size*1000))\n",
    "    cres=str('C')+str(cres)\n",
    "    return cres"
   ]
  },
  {
   "cell_type": "code",
   "execution_count": 23,
   "metadata": {},
   "outputs": [
    {
     "data": {
      "text/plain": [
       "12.67661957254915"
      ]
     },
     "execution_count": 23,
     "metadata": {},
     "output_type": "execute_result"
    }
   ],
   "source": [
    "delx=0.057\n",
    "circumf_Earth=(2*(np.pi)*rad_earth)\n",
    "res_in_km = (2*delx*(circumf_Earth/360))/1000\n",
    "res_in_km"
   ]
  },
  {
   "cell_type": "code",
   "execution_count": 8,
   "metadata": {},
   "outputs": [
    {
     "data": {
      "text/plain": [
       "0.026978801252393107"
      ]
     },
     "execution_count": 8,
     "metadata": {},
     "output_type": "execute_result"
    }
   ],
   "source": [
    "res_in_km=6\n",
    "delx=(1000*res_in_km)/(2*(circumf_Earth/360))\n",
    "delx"
   ]
  },
  {
   "cell_type": "code",
   "execution_count": 9,
   "metadata": {},
   "outputs": [
    {
     "data": {
      "text/plain": [
       "33.81818181818182"
      ]
     },
     "execution_count": 9,
     "metadata": {},
     "output_type": "execute_result"
    }
   ],
   "source": [
    "(4*930)/110\n"
   ]
  },
  {
   "cell_type": "code",
   "execution_count": 10,
   "metadata": {},
   "outputs": [
    {
     "data": {
      "text/plain": [
       "'C833'"
      ]
     },
     "execution_count": 10,
     "metadata": {},
     "output_type": "execute_result"
    }
   ],
   "source": [
    "Con2equ_globres(12.00)"
   ]
  },
  {
   "cell_type": "code",
   "execution_count": 16,
   "metadata": {},
   "outputs": [
    {
     "data": {
      "text/plain": [
       "60.0"
      ]
     },
     "execution_count": 16,
     "metadata": {},
     "output_type": "execute_result"
    }
   ],
   "source": [
    "180/3"
   ]
  },
  {
   "cell_type": "code",
   "execution_count": 17,
   "metadata": {},
   "outputs": [
    {
     "data": {
      "text/plain": [
       "522"
      ]
     },
     "execution_count": 17,
     "metadata": {},
     "output_type": "execute_result"
    }
   ],
   "source": [
    "702-180\n"
   ]
  },
  {
   "cell_type": "markdown",
   "metadata": {},
   "source": [
    "## Coarse resolution"
   ]
  },
  {
   "cell_type": "code",
   "execution_count": 14,
   "metadata": {},
   "outputs": [
    {
     "data": {
      "text/plain": [
       "(2.152089616544593, 6.457659987071752)"
      ]
     },
     "execution_count": 14,
     "metadata": {},
     "output_type": "execute_result"
    }
   ],
   "source": [
    "Conv2phyres(4642),Conv2phyres(1547)"
   ]
  },
  {
   "cell_type": "code",
   "execution_count": 15,
   "metadata": {},
   "outputs": [
    {
     "data": {
      "text/plain": [
       "35.799828913601374"
      ]
     },
     "execution_count": 15,
     "metadata": {},
     "output_type": "execute_result"
    }
   ],
   "source": [
    "deg = ((Conv2phyres(2338)*930)/111)\n",
    "deg"
   ]
  },
  {
   "cell_type": "code",
   "execution_count": 16,
   "metadata": {},
   "outputs": [],
   "source": [
    "## fine resolution"
   ]
  },
  {
   "cell_type": "code",
   "execution_count": 17,
   "metadata": {},
   "outputs": [
    {
     "data": {
      "text/plain": [
       "(6.457659987071752, 2.152089616544593)"
      ]
     },
     "execution_count": 17,
     "metadata": {},
     "output_type": "execute_result"
    }
   ],
   "source": [
    "Conv2phyres(1547), Conv2phyres(4642)"
   ]
  },
  {
   "cell_type": "markdown",
   "metadata": {},
   "source": [
    "### Read or load the netcdf data"
   ]
  },
  {
   "cell_type": "code",
   "execution_count": 18,
   "metadata": {},
   "outputs": [
    {
     "name": "stdout",
     "output_type": "stream",
     "text": [
      "geolon\n",
      "geolat\n",
      "slmsk\n",
      "land_frac\n",
      "orog_raw\n",
      "orog_filt\n",
      "stddev\n",
      "convexity\n",
      "oa1\n",
      "oa2\n",
      "oa3\n",
      "oa4\n",
      "ol1\n",
      "ol2\n",
      "ol3\n",
      "ol4\n",
      "theta\n",
      "gamma\n",
      "sigma\n",
      "elvmax\n"
     ]
    }
   ],
   "source": [
    "# Load data for coarse resolution domain\n",
    "f = netCDF4.Dataset('C769_oro_data.tile7.halo0.nc', 'r')\n",
    "# Load data for fine resolution domain\n",
    "\n",
    "# Load data for coarse resolution domain\n",
    "fg = netCDF4.Dataset('C769_grid.tile7.halo0.nc', 'r')\n",
    "for a in f.variables:\n",
    "  print(a)"
   ]
  },
  {
   "cell_type": "raw",
   "metadata": {},
   "source": [
    "for a in fg.variables:\n",
    "  print(a)"
   ]
  },
  {
   "cell_type": "code",
   "execution_count": 19,
   "metadata": {},
   "outputs": [],
   "source": [
    "# Load the second data set for coarse resulution\n",
    "f2 = netCDF4.Dataset('C2306_oro_data.tile7.halo0.nc', 'r')\n",
    "f2g = netCDF4.Dataset('C2306_grid.tile7.halo0.nc', 'r')\n"
   ]
  },
  {
   "cell_type": "code",
   "execution_count": 20,
   "metadata": {},
   "outputs": [
    {
     "data": {
      "text/plain": [
       "<class 'netCDF4._netCDF4.Dataset'>\n",
       "root group (NETCDF4_CLASSIC data model, file format HDF5):\n",
       "    dimensions(sizes): lon(1950), lat(1620)\n",
       "    variables(dimensions): float32 geolon(lat, lon), float32 geolat(lat, lon), float32 slmsk(lat, lon), float32 land_frac(lat, lon), float32 orog_raw(lat, lon), float32 orog_filt(lat, lon), float32 stddev(lat, lon), float32 convexity(lat, lon), float32 oa1(lat, lon), float32 oa2(lat, lon), float32 oa3(lat, lon), float32 oa4(lat, lon), float32 ol1(lat, lon), float32 ol2(lat, lon), float32 ol3(lat, lon), float32 ol4(lat, lon), float32 theta(lat, lon), float32 gamma(lat, lon), float32 sigma(lat, lon), float32 elvmax(lat, lon)\n",
       "    groups: "
      ]
     },
     "execution_count": 20,
     "metadata": {},
     "output_type": "execute_result"
    }
   ],
   "source": [
    "f2"
   ]
  },
  {
   "cell_type": "code",
   "execution_count": 21,
   "metadata": {},
   "outputs": [],
   "source": [
    "# Load the second data set for coarse resulution\n",
    "f3 = netCDF4.Dataset('C769_oro_data.tile8.nc', 'r')\n"
   ]
  },
  {
   "cell_type": "markdown",
   "metadata": {},
   "source": [
    "### Checking some paramters if the dataset is okey"
   ]
  },
  {
   "cell_type": "code",
   "execution_count": 22,
   "metadata": {},
   "outputs": [
    {
     "data": {
      "text/plain": [
       "masked_array(\n",
       "  data=[[ 45.63372  ,  45.655323 ,  45.67691  , ...,  45.67691  ,\n",
       "          45.655323 ,  45.63372  ],\n",
       "        [ 45.6042   ,  45.62579  ,  45.64736  , ...,  45.64736  ,\n",
       "          45.62579  ,  45.6042   ],\n",
       "        [ 45.57467  ,  45.596237 ,  45.617794 , ...,  45.617794 ,\n",
       "          45.596237 ,  45.57467  ],\n",
       "        ...,\n",
       "        [-10.019709 , -10.014005 , -10.0083065, ..., -10.0083065,\n",
       "         -10.014005 , -10.019709 ],\n",
       "        [-10.057731 , -10.052032 , -10.046341 , ..., -10.046341 ,\n",
       "         -10.052032 , -10.057731 ],\n",
       "        [-10.095758 , -10.090067 , -10.084382 , ..., -10.084382 ,\n",
       "         -10.090067 , -10.095758 ]],\n",
       "  mask=False,\n",
       "  fill_value=1e+20,\n",
       "  dtype=float32)"
      ]
     },
     "execution_count": 22,
     "metadata": {},
     "output_type": "execute_result"
    }
   ],
   "source": [
    "lats_fres = f2.variables['geolat'][:,:]\n",
    "lons_fres = f2.variables['geolon'][:,:]\n",
    "lats_fres"
   ]
  },
  {
   "cell_type": "code",
   "execution_count": 23,
   "metadata": {},
   "outputs": [
    {
     "data": {
      "text/plain": [
       "masked_array(\n",
       "  data=[[34.147137 , 34.153893 , 34.160633 , ..., 35.284676 , 35.281384 ,\n",
       "         35.278076 ],\n",
       "        [34.1089   , 34.115646 , 34.122383 , ..., 35.245422 , 35.242134 ,\n",
       "         35.23883  ],\n",
       "        [34.07066  , 34.077404 , 34.08413  , ..., 35.206173 , 35.20289  ,\n",
       "         35.199585 ],\n",
       "        ...,\n",
       "        [ 9.406505 ,  9.410377 ,  9.41424  , ..., 10.054743 , 10.052878 ,\n",
       "         10.051004 ],\n",
       "        [ 9.36753  ,  9.371398 ,  9.3752575, ..., 10.015174 , 10.013311 ,\n",
       "         10.011439 ],\n",
       "        [ 9.328552 ,  9.3324175,  9.336273 , ...,  9.975604 ,  9.9737425,\n",
       "          9.971872 ]],\n",
       "  mask=False,\n",
       "  fill_value=1e+20,\n",
       "  dtype=float32)"
      ]
     },
     "execution_count": 23,
     "metadata": {},
     "output_type": "execute_result"
    }
   ],
   "source": [
    "lats_fres_nst = f3.variables['geolat'][:,:]\n",
    "lons_fres_nst = f3.variables['geolon'][:,:]\n",
    "lats_fres_nst"
   ]
  },
  {
   "cell_type": "code",
   "execution_count": 24,
   "metadata": {},
   "outputs": [
    {
     "data": {
      "text/plain": [
       "55.894867"
      ]
     },
     "execution_count": 24,
     "metadata": {},
     "output_type": "execute_result"
    }
   ],
   "source": [
    "lats_fres[0][649]"
   ]
  },
  {
   "cell_type": "code",
   "execution_count": 25,
   "metadata": {},
   "outputs": [
    {
     "data": {
      "text/plain": [
       "(1950,)"
      ]
     },
     "execution_count": 25,
     "metadata": {},
     "output_type": "execute_result"
    }
   ],
   "source": [
    "lats_fres[1].shape"
   ]
  },
  {
   "cell_type": "code",
   "execution_count": null,
   "metadata": {},
   "outputs": [],
   "source": []
  },
  {
   "cell_type": "code",
   "execution_count": 26,
   "metadata": {},
   "outputs": [
    {
     "data": {
      "text/plain": [
       "(1950,)"
      ]
     },
     "execution_count": 26,
     "metadata": {},
     "output_type": "execute_result"
    }
   ],
   "source": [
    "lons_fres[1].shape"
   ]
  },
  {
   "cell_type": "code",
   "execution_count": 27,
   "metadata": {},
   "outputs": [
    {
     "data": {
      "text/plain": [
       "(1950,)"
      ]
     },
     "execution_count": 27,
     "metadata": {},
     "output_type": "execute_result"
    }
   ],
   "source": [
    "lats_fres[4].shape"
   ]
  },
  {
   "cell_type": "code",
   "execution_count": 28,
   "metadata": {},
   "outputs": [
    {
     "data": {
      "text/plain": [
       "(650,)"
      ]
     },
     "execution_count": 28,
     "metadata": {},
     "output_type": "execute_result"
    }
   ],
   "source": [
    "lats1d = f.variables['geolat'][1]\n",
    "lats1d.shape"
   ]
  },
  {
   "cell_type": "code",
   "execution_count": null,
   "metadata": {},
   "outputs": [],
   "source": []
  },
  {
   "cell_type": "code",
   "execution_count": 29,
   "metadata": {},
   "outputs": [
    {
     "data": {
      "text/plain": [
       "(1950,)"
      ]
     },
     "execution_count": 29,
     "metadata": {},
     "output_type": "execute_result"
    }
   ],
   "source": [
    "f2.variables['geolat'][0::3][0].shape\n"
   ]
  },
  {
   "cell_type": "code",
   "execution_count": 30,
   "metadata": {},
   "outputs": [
    {
     "data": {
      "text/plain": [
       "(540, 650)"
      ]
     },
     "execution_count": 30,
     "metadata": {},
     "output_type": "execute_result"
    }
   ],
   "source": [
    "f.variables['geolat'].shape"
   ]
  },
  {
   "cell_type": "code",
   "execution_count": 31,
   "metadata": {},
   "outputs": [
    {
     "data": {
      "text/plain": [
       "(-10.052032, 57.31893)"
      ]
     },
     "execution_count": 31,
     "metadata": {},
     "output_type": "execute_result"
    }
   ],
   "source": [
    "np.min(f.variables['geolat']),np.max(f.variables['geolat'])"
   ]
  },
  {
   "cell_type": "code",
   "execution_count": 32,
   "metadata": {},
   "outputs": [
    {
     "data": {
      "text/plain": [
       "(240.129, 355.871)"
      ]
     },
     "execution_count": 32,
     "metadata": {},
     "output_type": "execute_result"
    }
   ],
   "source": [
    "np.min(f.variables['geolon']),np.max(f.variables['geolon'])"
   ]
  },
  {
   "cell_type": "code",
   "execution_count": 33,
   "metadata": {},
   "outputs": [
    {
     "data": {
      "text/plain": [
       "(-10.095758, 57.360195)"
      ]
     },
     "execution_count": 33,
     "metadata": {},
     "output_type": "execute_result"
    }
   ],
   "source": [
    "np.min(f2.variables['geolat']),np.max(f2.variables['geolat'])"
   ]
  },
  {
   "cell_type": "code",
   "execution_count": 34,
   "metadata": {},
   "outputs": [
    {
     "data": {
      "text/plain": [
       "(240.04707, 355.9529)"
      ]
     },
     "execution_count": 34,
     "metadata": {},
     "output_type": "execute_result"
    }
   ],
   "source": [
    "np.min(f2.variables['geolon']),np.max(f2.variables['geolon'])\n"
   ]
  },
  {
   "cell_type": "code",
   "execution_count": 35,
   "metadata": {},
   "outputs": [
    {
     "data": {
      "text/plain": [
       "(9.328552, 35.62767)"
      ]
     },
     "execution_count": 35,
     "metadata": {},
     "output_type": "execute_result"
    }
   ],
   "source": [
    "np.min(f3.variables['geolat']),np.max(f3.variables['geolat'])"
   ]
  },
  {
   "cell_type": "code",
   "execution_count": 36,
   "metadata": {},
   "outputs": [
    {
     "data": {
      "text/plain": [
       "(287.95767, 318.62085)"
      ]
     },
     "execution_count": 36,
     "metadata": {},
     "output_type": "execute_result"
    }
   ],
   "source": [
    "np.min(f3.variables['geolon']),np.max(f3.variables['geolon'])"
   ]
  },
  {
   "cell_type": "code",
   "execution_count": 37,
   "metadata": {},
   "outputs": [
    {
     "data": {
      "text/plain": [
       "(-10.095758, 57.360195)"
      ]
     },
     "execution_count": 37,
     "metadata": {},
     "output_type": "execute_result"
    }
   ],
   "source": [
    "np.min(f2.variables['geolat']),np.max(f2.variables['geolat'])"
   ]
  },
  {
   "cell_type": "code",
   "execution_count": 38,
   "metadata": {},
   "outputs": [
    {
     "data": {
      "text/plain": [
       "(240.04707, 355.9529)"
      ]
     },
     "execution_count": 38,
     "metadata": {},
     "output_type": "execute_result"
    }
   ],
   "source": [
    "np.min(f2.variables['geolon']),np.max(f2.variables['geolon'])"
   ]
  },
  {
   "cell_type": "code",
   "execution_count": null,
   "metadata": {},
   "outputs": [],
   "source": []
  },
  {
   "cell_type": "code",
   "execution_count": 39,
   "metadata": {},
   "outputs": [],
   "source": [
    "latbnd= [np.min(f3.variables['geolat']),np.max(f3.variables['geolat'])]\n",
    "lonbnd = [np.min(f3.variables['geolon']),np.max(f3.variables['geolon'])]"
   ]
  },
  {
   "cell_type": "code",
   "execution_count": 40,
   "metadata": {},
   "outputs": [
    {
     "data": {
      "text/plain": [
       "masked_array(\n",
       "  data=[[ 45.63372  ,  45.698486 ,  45.76312  , ...,  45.806133 ,\n",
       "          45.74159  ,  45.67691  ],\n",
       "        [ 45.54512  ,  45.60974  ,  45.67423  , ...,  45.717144 ,\n",
       "          45.65275  ,  45.588215 ],\n",
       "        [ 45.456406 ,  45.520878 ,  45.585217 , ...,  45.628033 ,\n",
       "          45.563786 ,  45.4994   ],\n",
       "        ...,\n",
       "        [ -9.7916975,  -9.774485 ,  -9.757329 , ...,  -9.745923 ,\n",
       "          -9.7630415,  -9.780216 ],\n",
       "        [ -9.905678 ,  -9.888524 ,  -9.871427 , ...,  -9.86006  ,\n",
       "          -9.87712  ,  -9.894236 ],\n",
       "        [-10.019709 , -10.002614 ,  -9.985576 , ...,  -9.974248 ,\n",
       "          -9.991249 , -10.0083065]],\n",
       "  mask=False,\n",
       "  fill_value=1e+20,\n",
       "  dtype=float32)"
      ]
     },
     "execution_count": 40,
     "metadata": {},
     "output_type": "execute_result"
    }
   ],
   "source": [
    "# Extract lat lon of fine grid resolution domain every other three \n",
    "# gridpoint to match with the parent domain (3:1 ratio)\n",
    "lats_fres = f2.variables['geolat'][:,:][0::3,0::3]\n",
    "lons_fres = f2.variables['geolon'][:,:][0::3,0::3]\n",
    "lats_fres"
   ]
  },
  {
   "cell_type": "code",
   "execution_count": 41,
   "metadata": {},
   "outputs": [
    {
     "data": {
      "text/plain": [
       "masked_array(\n",
       "  data=[[34.147137 , 34.16736  , 34.18744  , ..., 35.297688 , 35.287952 ,\n",
       "         35.278076 ],\n",
       "        [34.03242  , 34.052586 , 34.072617 , ..., 35.1799   , 35.170193 ,\n",
       "         35.160343 ],\n",
       "        [33.9177   , 33.937817 , 33.957794 , ..., 35.062122 , 35.05244  ,\n",
       "         35.042618 ],\n",
       "        ...,\n",
       "        [ 9.56238  ,  9.574011 ,  9.585562 , ..., 10.220392 , 10.214858 ,\n",
       "         10.209244 ],\n",
       "        [ 9.4454775,  9.457077 ,  9.468596 , ..., 10.101686 , 10.096167 ,\n",
       "         10.090568 ],\n",
       "        [ 9.328552 ,  9.34012  ,  9.351608 , ...,  9.98296  ,  9.977456 ,\n",
       "          9.971872 ]],\n",
       "  mask=False,\n",
       "  fill_value=1e+20,\n",
       "  dtype=float32)"
      ]
     },
     "execution_count": 41,
     "metadata": {},
     "output_type": "execute_result"
    }
   ],
   "source": [
    "lats_fres_nst = f3.variables['geolat'][:,:][0::3,0::3]\n",
    "lons_fres_nst = f3.variables['geolon'][:,:][0::3,0::3]\n",
    "lats_fres_nst"
   ]
  },
  {
   "cell_type": "code",
   "execution_count": 42,
   "metadata": {},
   "outputs": [
    {
     "data": {
      "text/plain": [
       "(540, 650)"
      ]
     },
     "execution_count": 42,
     "metadata": {},
     "output_type": "execute_result"
    }
   ],
   "source": [
    "lats_fres.shape"
   ]
  },
  {
   "cell_type": "code",
   "execution_count": 43,
   "metadata": {},
   "outputs": [
    {
     "data": {
      "text/plain": [
       "masked_array(\n",
       "  data=[[355.9529 , 355.81012, 355.6671 , ..., 240.42833, 240.2852 ,\n",
       "         240.14227],\n",
       "        [355.85007, 355.70728, 355.56427, ..., 240.53116, 240.38803,\n",
       "         240.2451 ],\n",
       "        [355.7477 , 355.60492, 355.46194, ..., 240.6335 , 240.49039,\n",
       "         240.34746],\n",
       "        ...,\n",
       "        [335.0256 , 334.90604, 334.7865 , ..., 261.29318, 261.17368,\n",
       "         261.0541 ],\n",
       "        [335.02112, 334.90152, 334.78198, ..., 261.29767, 261.17816,\n",
       "         261.05862],\n",
       "        [335.01672, 334.89713, 334.7776 , ..., 261.30206, 261.18256,\n",
       "         261.06302]],\n",
       "  mask=False,\n",
       "  fill_value=1e+20,\n",
       "  dtype=float32)"
      ]
     },
     "execution_count": 43,
     "metadata": {},
     "output_type": "execute_result"
    }
   ],
   "source": [
    "lons_fres"
   ]
  },
  {
   "cell_type": "code",
   "execution_count": 44,
   "metadata": {},
   "outputs": [
    {
     "data": {
      "text/plain": [
       "masked_array(\n",
       "  data=[[355.871  , 355.72812, 355.58505, ..., 240.41493, 240.27187,\n",
       "         240.129  ],\n",
       "        [355.7683 , 355.62546, 355.4824 , ..., 240.5176 , 240.37454,\n",
       "         240.23167],\n",
       "        [355.66614, 355.52325, 355.38022, ..., 240.61978, 240.47673,\n",
       "         240.33388],\n",
       "        ...,\n",
       "        [334.98425, 334.86465, 334.74515, ..., 261.25485, 261.13535,\n",
       "         261.01575],\n",
       "        [334.97977, 334.8602 , 334.7407 , ..., 261.2593 , 261.1398 ,\n",
       "         261.02023],\n",
       "        [334.97543, 334.85583, 334.73633, ..., 261.26367, 261.14417,\n",
       "         261.02457]],\n",
       "  mask=False,\n",
       "  fill_value=1e+20,\n",
       "  dtype=float32)"
      ]
     },
     "execution_count": 44,
     "metadata": {},
     "output_type": "execute_result"
    }
   ],
   "source": [
    "lats_fcrs = f.variables['geolat'][:,:]\n",
    "lons_fcrs = f.variables['geolon'][:,:]\n",
    "lons_fcrs"
   ]
  },
  {
   "cell_type": "code",
   "execution_count": 45,
   "metadata": {},
   "outputs": [],
   "source": [
    "\n",
    "#!/ usr/bin/env python\n",
    "minLat =latbnd[0] #min(lat)\n",
    "maxLat =latbnd[1] #max(lat)\n",
    "minLon =lonbnd[0] #min(lon)\n",
    "maxLon =lonbnd[0] #max(lon)\n",
    "def sliceLatLonBox( lat , lon, minLat , maxLat , minLon , maxLon ):\n",
    "    indexLat =  np.where((lat >= latbnd[0]) &  \n",
    "                         (lat <= latbnd[1]) & \n",
    "                         (lon >= lonbnd[0]) & \n",
    "                         (lon <= lonbnd[1]))\n",
    "    indexLon =  np.where((lat >= latbnd[0]) & \n",
    "                         (lat <= latbnd[1]) & \n",
    "                         (lon >= lonbnd[0]) & \n",
    "                         (lon <= lonbnd[1]))\n",
    "    return indexLat , indexLon"
   ]
  },
  {
   "cell_type": "markdown",
   "metadata": {},
   "source": [
    "### Fine resolution domain"
   ]
  },
  {
   "cell_type": "code",
   "execution_count": 46,
   "metadata": {},
   "outputs": [
    {
     "data": {
      "text/plain": [
       "((array([168, 168, 168, ..., 402, 402, 402]),\n",
       "  array([183, 184, 185, ..., 334, 335, 336])),\n",
       " (array([168, 168, 168, ..., 402, 402, 402]),\n",
       "  array([183, 184, 185, ..., 334, 335, 336])))"
      ]
     },
     "execution_count": 46,
     "metadata": {},
     "output_type": "execute_result"
    }
   ],
   "source": [
    "sliceLatLonBox(lats_fres,lons_fres,minLat,maxLat,minLon,maxLon)"
   ]
  },
  {
   "cell_type": "markdown",
   "metadata": {},
   "source": [
    "### Coarse resolution domain"
   ]
  },
  {
   "cell_type": "code",
   "execution_count": 47,
   "metadata": {},
   "outputs": [
    {
     "data": {
      "text/plain": [
       "((array([168, 168, 168, ..., 401, 401, 401]),\n",
       "  array([182, 183, 184, ..., 368, 369, 370])),\n",
       " (array([168, 168, 168, ..., 401, 401, 401]),\n",
       "  array([182, 183, 184, ..., 368, 369, 370])))"
      ]
     },
     "execution_count": 47,
     "metadata": {},
     "output_type": "execute_result"
    }
   ],
   "source": [
    "sliceLatLonBox(lats_fcrs,lons_fcrs,minLat,maxLat,minLon,maxLon)"
   ]
  },
  {
   "cell_type": "code",
   "execution_count": null,
   "metadata": {},
   "outputs": [],
   "source": []
  },
  {
   "cell_type": "code",
   "execution_count": null,
   "metadata": {},
   "outputs": [],
   "source": []
  },
  {
   "cell_type": "code",
   "execution_count": 48,
   "metadata": {},
   "outputs": [
    {
     "data": {
      "text/plain": [
       "masked_array(\n",
       "  data=[[35.262386, 35.262386, 35.262386, ...,  9.099917,  9.099917,\n",
       "          9.099917],\n",
       "        [33.86276 , 33.767487, 33.671974, ..., 17.410946, 17.291634,\n",
       "         17.172222]],\n",
       "  mask=False,\n",
       "  fill_value=1e+20,\n",
       "  dtype=float32)"
      ]
     },
     "execution_count": 48,
     "metadata": {},
     "output_type": "execute_result"
    }
   ],
   "source": [
    "lats_fres[sliceLatLonBox(lats_fres,lons_fres,minLat,maxLat,minLon,maxLon)]\n"
   ]
  },
  {
   "cell_type": "code",
   "execution_count": 49,
   "metadata": {},
   "outputs": [
    {
     "data": {
      "text/plain": [
       "masked_array(\n",
       "  data=[[35.231903, 35.231903, 35.231903, ...,  9.183101,  9.183101,\n",
       "          9.183101],\n",
       "        [33.926144, 33.831028, 33.735676, ..., 13.261553, 13.13917 ,\n",
       "         13.016706]],\n",
       "  mask=False,\n",
       "  fill_value=1e+20,\n",
       "  dtype=float32)"
      ]
     },
     "execution_count": 49,
     "metadata": {},
     "output_type": "execute_result"
    }
   ],
   "source": [
    "lats_fcrs[sliceLatLonBox(lats_fcrs,lons_fcrs,minLat,maxLat,minLon,maxLon)]"
   ]
  },
  {
   "cell_type": "markdown",
   "metadata": {},
   "source": [
    "### Load the netcdf dataset for all domains"
   ]
  },
  {
   "cell_type": "code",
   "execution_count": 25,
   "metadata": {},
   "outputs": [],
   "source": [
    "# Load data for coarse resolution domain\n",
    "f = netCDF4.Dataset('C769_oro_data.tile7.halo0.nc', 'r')\n",
    "# Load data for fine resolution domain\n",
    "f2 = netCDF4.Dataset('C2306_oro_data.tile7.halo0.nc', 'r')\n",
    "# Load data for nest  domain created from the fine resolution domain\n",
    "f3 = netCDF4.Dataset('C769_oro_data.tile8.nc', 'r')"
   ]
  },
  {
   "cell_type": "code",
   "execution_count": null,
   "metadata": {},
   "outputs": [],
   "source": []
  },
  {
   "cell_type": "markdown",
   "metadata": {},
   "source": [
    "### Reading Variables"
   ]
  },
  {
   "cell_type": "code",
   "execution_count": 26,
   "metadata": {},
   "outputs": [
    {
     "data": {
      "text/plain": [
       "masked_array(\n",
       "  data=[[355.871  , 355.72812, 355.58505, ..., 240.41493, 240.27187,\n",
       "         240.129  ],\n",
       "        [355.7683 , 355.62546, 355.4824 , ..., 240.5176 , 240.37454,\n",
       "         240.23167],\n",
       "        [355.66614, 355.52325, 355.38022, ..., 240.61978, 240.47673,\n",
       "         240.33388],\n",
       "        ...,\n",
       "        [334.98425, 334.86465, 334.74515, ..., 261.25485, 261.13535,\n",
       "         261.01575],\n",
       "        [334.97977, 334.8602 , 334.7407 , ..., 261.2593 , 261.1398 ,\n",
       "         261.02023],\n",
       "        [334.97543, 334.85583, 334.73633, ..., 261.26367, 261.14417,\n",
       "         261.02457]],\n",
       "  mask=False,\n",
       "  fill_value=1e+20,\n",
       "  dtype=float32)"
      ]
     },
     "execution_count": 26,
     "metadata": {},
     "output_type": "execute_result"
    }
   ],
   "source": [
    "lats_fcrs = f.variables['geolat'][:,:]\n",
    "lons_fcrs = f.variables['geolon'][:,:]\n",
    "lons_fcrs"
   ]
  },
  {
   "cell_type": "code",
   "execution_count": 32,
   "metadata": {},
   "outputs": [
    {
     "data": {
      "text/plain": [
       "masked_array(\n",
       "  data=[[355.871  , 355.72812, 355.58505, ..., 240.41493, 240.27187,\n",
       "         240.129  ],\n",
       "        [355.7683 , 355.62546, 355.4824 , ..., 240.5176 , 240.37454,\n",
       "         240.23167],\n",
       "        [355.66614, 355.52325, 355.38022, ..., 240.61978, 240.47673,\n",
       "         240.33388],\n",
       "        ...,\n",
       "        [334.98425, 334.86465, 334.74515, ..., 261.25485, 261.13535,\n",
       "         261.01575],\n",
       "        [334.97977, 334.8602 , 334.7407 , ..., 261.2593 , 261.1398 ,\n",
       "         261.02023],\n",
       "        [334.97543, 334.85583, 334.73633, ..., 261.26367, 261.14417,\n",
       "         261.02457]],\n",
       "  mask=False,\n",
       "  fill_value=1e+20,\n",
       "  dtype=float32)"
      ]
     },
     "execution_count": 32,
     "metadata": {},
     "output_type": "execute_result"
    }
   ],
   "source": [
    "# Extract lat lon of fine grid resolution domain every other three \n",
    "# gridpoint to match with the parent domain (3:1 ratio)\n",
    "lats_fres = f2.variables['geolat'][:,:][1::3,1::3]\n",
    "lons_fres = f2.variables['geolon'][:,:][1::3,1::3]\n",
    "lons_fres"
   ]
  },
  {
   "cell_type": "code",
   "execution_count": 33,
   "metadata": {},
   "outputs": [
    {
     "data": {
      "text/plain": [
       "((540, 650), (540, 650))"
      ]
     },
     "execution_count": 33,
     "metadata": {},
     "output_type": "execute_result"
    }
   ],
   "source": [
    "lons_fres.shape,lons_fcrs.shape"
   ]
  },
  {
   "cell_type": "code",
   "execution_count": 34,
   "metadata": {},
   "outputs": [
    {
     "data": {
      "text/plain": [
       "(646, 646)"
      ]
     },
     "execution_count": 34,
     "metadata": {},
     "output_type": "execute_result"
    }
   ],
   "source": [
    "lats_fres_nst = f3.variables['geolat'][:,:]#[0::3,0::3]\n",
    "lons_fres_nst = f3.variables['geolon'][:,:]#[0::3,0::3]\n",
    "lons_fres_nst.shape"
   ]
  },
  {
   "cell_type": "code",
   "execution_count": 35,
   "metadata": {},
   "outputs": [
    {
     "data": {
      "text/plain": [
       "masked_array(\n",
       "  data=[[0., 0., 0., ..., 0., 0., 0.],\n",
       "        [0., 0., 0., ..., 0., 0., 0.],\n",
       "        [0., 0., 0., ..., 0., 0., 0.],\n",
       "        ...,\n",
       "        [0., 0., 0., ..., 0., 0., 0.],\n",
       "        [0., 0., 0., ..., 0., 0., 0.],\n",
       "        [0., 0., 0., ..., 0., 0., 0.]],\n",
       "  mask=False,\n",
       "  fill_value=1e+20,\n",
       "  dtype=float32)"
      ]
     },
     "execution_count": 35,
     "metadata": {},
     "output_type": "execute_result"
    }
   ],
   "source": [
    "lons_fres-lons_fcrs"
   ]
  },
  {
   "cell_type": "code",
   "execution_count": null,
   "metadata": {},
   "outputs": [],
   "source": []
  },
  {
   "cell_type": "markdown",
   "metadata": {},
   "source": [
    "### Subsetting both fine and coarse domain based on nest domain extent "
   ]
  },
  {
   "cell_type": "code",
   "execution_count": 36,
   "metadata": {
    "scrolled": true
   },
   "outputs": [
    {
     "data": {
      "text/plain": [
       "([9.328552, 35.62767], [287.95767, 318.62085])"
      ]
     },
     "execution_count": 36,
     "metadata": {},
     "output_type": "execute_result"
    }
   ],
   "source": [
    "latbnd= [np.min(f3.variables['geolat']),np.max(f3.variables['geolat'])]\n",
    "lonbnd = [np.min(f3.variables['geolon']),np.max(f3.variables['geolon'])]\n",
    "latbnd,lonbnd"
   ]
  },
  {
   "cell_type": "markdown",
   "metadata": {},
   "source": [
    "### Coarse resolution domain indices"
   ]
  },
  {
   "cell_type": "code",
   "execution_count": 37,
   "metadata": {},
   "outputs": [
    {
     "data": {
      "text/plain": [
       "(array([168, 168, 168, ..., 401, 401, 401]),\n",
       " array([182, 183, 184, ..., 368, 369, 370]))"
      ]
     },
     "execution_count": 37,
     "metadata": {},
     "output_type": "execute_result"
    }
   ],
   "source": [
    "lat_ind_fcrs = np.where((lats_fcrs > latbnd[0]) & (lats_fcrs < latbnd[1]) \\\n",
    "                        & (lons_fcrs > lonbnd[0]) & (lons_fcrs < lonbnd[1]))\n",
    "lon_ind_fcrs = np.where((lats_fcrs > latbnd[0]) & (lats_fcrs < latbnd[1]) \\\n",
    "                        & (lons_fcrs > lonbnd[0]) & (lons_fcrs < lonbnd[1]))\n",
    "lat_ind_fcrs"
   ]
  },
  {
   "cell_type": "markdown",
   "metadata": {},
   "source": [
    "### Fine resolution domain indices"
   ]
  },
  {
   "cell_type": "code",
   "execution_count": 38,
   "metadata": {},
   "outputs": [
    {
     "data": {
      "text/plain": [
       "(array([168, 168, 168, ..., 401, 401, 401]),\n",
       " array([182, 183, 184, ..., 368, 369, 370]))"
      ]
     },
     "execution_count": 38,
     "metadata": {},
     "output_type": "execute_result"
    }
   ],
   "source": [
    "lat_ind_fres = np.where((lats_fres > latbnd[0]) & (lats_fres < latbnd[1])\\\n",
    "                        & (lons_fres > lonbnd[0]) & (lons_fres < lonbnd[1]))\n",
    "lon_ind_fres = np.where((lats_fres > latbnd[0]) & (lats_fres < latbnd[1]) \\\n",
    "                        & (lons_fres > lonbnd[0]) & (lons_fres < lonbnd[1]))\n",
    "lat_ind_fres"
   ]
  },
  {
   "cell_type": "code",
   "execution_count": 39,
   "metadata": {},
   "outputs": [
    {
     "data": {
      "text/plain": [
       "(53421, 53421)"
      ]
     },
     "execution_count": 39,
     "metadata": {},
     "output_type": "execute_result"
    }
   ],
   "source": [
    "len(list(lat_ind_fres)[0]),len(list(lat_ind_fcrs)[0])"
   ]
  },
  {
   "cell_type": "code",
   "execution_count": 40,
   "metadata": {},
   "outputs": [],
   "source": [
    "#for i in range(len(list(lat_ind_fres)[0])):\n",
    "#    print(list(lat_ind_fres)[0][i],list(lat_ind_fcrs)[0][i])"
   ]
  },
  {
   "cell_type": "code",
   "execution_count": 41,
   "metadata": {},
   "outputs": [
    {
     "data": {
      "text/plain": [
       "(array([  0,   0,   0, ..., 645, 645, 645]),\n",
       " array([  1,   2,   3, ..., 643, 644, 645]))"
      ]
     },
     "execution_count": 41,
     "metadata": {},
     "output_type": "execute_result"
    }
   ],
   "source": [
    "lat_ind_fres_nst = np.where((lats_fres_nst > latbnd[0]) & \\\n",
    "                            (lats_fres_nst < latbnd[1]) & \\\n",
    "                            (lons_fres_nst > lonbnd[0]) & \\\n",
    "                            (lons_fres_nst < lonbnd[1]))\n",
    "lon_ind_fres_nst = np.where((lats_fres_nst > latbnd[0]) & \\\n",
    "                            (lats_fres_nst < latbnd[1]) & \\\n",
    "                            (lons_fres_nst > lonbnd[0]) & \\\n",
    "                            (lons_fres_nst < lonbnd[1]))\n",
    "lat_ind_fres_nst"
   ]
  },
  {
   "cell_type": "code",
   "execution_count": 42,
   "metadata": {},
   "outputs": [
    {
     "data": {
      "text/plain": [
       "masked_array(data=[318.6027 , 318.46017, 318.3176 , ..., 292.89923,\n",
       "                   292.78195, 292.66464],\n",
       "             mask=False,\n",
       "       fill_value=1e+20,\n",
       "            dtype=float32)"
      ]
     },
     "execution_count": 42,
     "metadata": {},
     "output_type": "execute_result"
    }
   ],
   "source": [
    "lat_sub_fnres = lats_fres[lat_ind_fres]\n",
    "lon_sub_fnres = lons_fres[lon_ind_fres]\n",
    "lon_sub_fnres"
   ]
  },
  {
   "cell_type": "code",
   "execution_count": 43,
   "metadata": {},
   "outputs": [
    {
     "data": {
      "text/plain": [
       "masked_array(data=[318.6027 , 318.46017, 318.3176 , ..., 292.89923,\n",
       "                   292.78195, 292.66464],\n",
       "             mask=False,\n",
       "       fill_value=1e+20,\n",
       "            dtype=float32)"
      ]
     },
     "execution_count": 43,
     "metadata": {},
     "output_type": "execute_result"
    }
   ],
   "source": [
    "lat_sub_crsres = lats_fcrs[lat_ind_fcrs]\n",
    "lon_sub_crsres = lons_fcrs[lon_ind_fcrs]\n",
    "lon_sub_crsres"
   ]
  },
  {
   "cell_type": "code",
   "execution_count": 44,
   "metadata": {},
   "outputs": [
    {
     "data": {
      "text/plain": [
       "masked_array(data=[318.574  , 318.52716, 318.48032, ..., 289.81927,\n",
       "                   289.78   , 289.74072],\n",
       "             mask=False,\n",
       "       fill_value=1e+20,\n",
       "            dtype=float32)"
      ]
     },
     "execution_count": 44,
     "metadata": {},
     "output_type": "execute_result"
    }
   ],
   "source": [
    "lat_sub_fnres_nst = lats_fres_nst[lat_ind_fres_nst]\n",
    "lon_sub_fnres_nst = lons_fres_nst[lon_ind_fres_nst]\n",
    "lon_sub_fnres_nst"
   ]
  },
  {
   "cell_type": "code",
   "execution_count": null,
   "metadata": {},
   "outputs": [],
   "source": []
  },
  {
   "cell_type": "code",
   "execution_count": null,
   "metadata": {},
   "outputs": [],
   "source": [
    "lon_sub_crsres"
   ]
  },
  {
   "cell_type": "code",
   "execution_count": null,
   "metadata": {},
   "outputs": [],
   "source": []
  },
  {
   "cell_type": "code",
   "execution_count": 67,
   "metadata": {},
   "outputs": [
    {
     "data": {
      "text/plain": [
       "(array([168, 168, 168, ..., 401, 401, 401]),\n",
       " array([182, 183, 184, ..., 368, 369, 370]))"
      ]
     },
     "execution_count": 67,
     "metadata": {},
     "output_type": "execute_result"
    }
   ],
   "source": [
    "lat_ind_fres"
   ]
  },
  {
   "cell_type": "code",
   "execution_count": 52,
   "metadata": {},
   "outputs": [
    {
     "data": {
      "text/plain": [
       "masked_array(\n",
       "  data=[[ 45.62579 ,  45.69046 ,  45.755   , ...,  45.755   ,  45.69046 ,\n",
       "          45.62579 ],\n",
       "        [ 45.5371  ,  45.601627,  45.66602 , ...,  45.66602 ,  45.601627,\n",
       "          45.5371  ],\n",
       "        [ 45.448296,  45.512672,  45.57692 , ...,  45.57692 ,  45.512672,\n",
       "          45.448296],\n",
       "        ...,\n",
       "        [ -9.823948,  -9.806774,  -9.789657, ...,  -9.789657,  -9.806774,\n",
       "          -9.823948],\n",
       "        [ -9.937964,  -9.92085 ,  -9.90379 , ...,  -9.90379 ,  -9.92085 ,\n",
       "          -9.937964],\n",
       "        [-10.052032, -10.034977, -10.017977, ..., -10.017977, -10.034977,\n",
       "         -10.052032]],\n",
       "  mask=False,\n",
       "  fill_value=1e+20,\n",
       "  dtype=float32)"
      ]
     },
     "execution_count": 52,
     "metadata": {},
     "output_type": "execute_result"
    }
   ],
   "source": [
    "lats_fcrs = f.variables['geolat'][:,:]\n",
    "lons_fcrs = f.variables['geolon'][:,:]\n",
    "lats_fcrs"
   ]
  },
  {
   "cell_type": "code",
   "execution_count": 53,
   "metadata": {},
   "outputs": [
    {
     "data": {
      "text/plain": [
       "(540, 650)"
      ]
     },
     "execution_count": 53,
     "metadata": {},
     "output_type": "execute_result"
    }
   ],
   "source": [
    "lats_fcrs.shape"
   ]
  },
  {
   "cell_type": "code",
   "execution_count": 54,
   "metadata": {},
   "outputs": [
    {
     "data": {
      "text/plain": [
       "(array([168, 168, 168, ..., 401, 401, 401]),\n",
       " array([182, 183, 184, ..., 368, 369, 370]))"
      ]
     },
     "execution_count": 54,
     "metadata": {},
     "output_type": "execute_result"
    }
   ],
   "source": [
    "lat_ind_fcrs = np.where((lats_fcrs > latbnd[0]) & (lats_fcrs < latbnd[1]) & (lons_fcrs > lonbnd[0]) & (lons_fcrs < lonbnd[1]))\n",
    "lon_ind_fcrs = np.where((lats_fcrs > latbnd[0]) & (lats_fcrs < latbnd[1]) & (lons_fcrs > lonbnd[0]) & (lons_fcrs < lonbnd[1]))\n",
    "lat_ind_fcrs"
   ]
  },
  {
   "cell_type": "code",
   "execution_count": 55,
   "metadata": {},
   "outputs": [
    {
     "data": {
      "text/plain": [
       "53421"
      ]
     },
     "execution_count": 55,
     "metadata": {},
     "output_type": "execute_result"
    }
   ],
   "source": [
    "len(lon_ind_fcrs[1])"
   ]
  },
  {
   "cell_type": "code",
   "execution_count": 56,
   "metadata": {},
   "outputs": [
    {
     "data": {
      "text/plain": [
       "(2, 2)"
      ]
     },
     "execution_count": 56,
     "metadata": {},
     "output_type": "execute_result"
    }
   ],
   "source": [
    "len(lat_ind_fcrs),len(lon_ind_fcrs)"
   ]
  },
  {
   "cell_type": "code",
   "execution_count": 57,
   "metadata": {},
   "outputs": [],
   "source": [
    "lat_sub_fnres = lats_fres[lat_ind_fres]\n",
    "lon_sub_fnres = lons_fres[lon_ind_fres]"
   ]
  },
  {
   "cell_type": "code",
   "execution_count": 58,
   "metadata": {},
   "outputs": [
    {
     "data": {
      "text/plain": [
       "masked_array(data=[35.533894, 35.554417, 35.574802, ...,  9.33903 ,\n",
       "                    9.335566,  9.332022],\n",
       "             mask=False,\n",
       "       fill_value=1e+20,\n",
       "            dtype=float32)"
      ]
     },
     "execution_count": 58,
     "metadata": {},
     "output_type": "execute_result"
    }
   ],
   "source": [
    "lat_sub_fnres"
   ]
  },
  {
   "cell_type": "code",
   "execution_count": 59,
   "metadata": {},
   "outputs": [
    {
     "data": {
      "text/plain": [
       "masked_array(data=[318.6027 , 318.46017, 318.3176 , ..., 292.89923,\n",
       "                   292.78195, 292.66464],\n",
       "             mask=False,\n",
       "       fill_value=1e+20,\n",
       "            dtype=float32)"
      ]
     },
     "execution_count": 59,
     "metadata": {},
     "output_type": "execute_result"
    }
   ],
   "source": [
    "lon_sub_fnres"
   ]
  },
  {
   "cell_type": "code",
   "execution_count": 67,
   "metadata": {},
   "outputs": [
    {
     "data": {
      "text/plain": [
       "masked_array(data=[35.533894, 35.554417, 35.574802, ...,  9.33903 ,\n",
       "                    9.335566,  9.332022],\n",
       "             mask=False,\n",
       "       fill_value=1e+20,\n",
       "            dtype=float32)"
      ]
     },
     "execution_count": 67,
     "metadata": {},
     "output_type": "execute_result"
    }
   ],
   "source": [
    "lat_sub_fnres"
   ]
  },
  {
   "cell_type": "code",
   "execution_count": 64,
   "metadata": {},
   "outputs": [],
   "source": [
    "lat_sub_crsres = lats_fcrs[lat_ind_fcrs]\n",
    "lon_sub_crsres = lons_fcrs[lon_ind_fcrs]"
   ]
  },
  {
   "cell_type": "code",
   "execution_count": 65,
   "metadata": {},
   "outputs": [
    {
     "data": {
      "text/plain": [
       "masked_array(data=[318.6027 , 318.46017, 318.3176 , ..., 292.89923,\n",
       "                   292.78195, 292.66464],\n",
       "             mask=False,\n",
       "       fill_value=1e+20,\n",
       "            dtype=float32)"
      ]
     },
     "execution_count": 65,
     "metadata": {},
     "output_type": "execute_result"
    }
   ],
   "source": [
    "lon_sub_crsres"
   ]
  },
  {
   "cell_type": "code",
   "execution_count": 63,
   "metadata": {},
   "outputs": [
    {
     "data": {
      "text/plain": [
       "masked_array(data=[35.533894, 35.554417, 35.574802, ...,  9.33903 ,\n",
       "                    9.335566,  9.332022],\n",
       "             mask=False,\n",
       "       fill_value=1e+20,\n",
       "            dtype=float32)"
      ]
     },
     "execution_count": 63,
     "metadata": {},
     "output_type": "execute_result"
    }
   ],
   "source": [
    "lat_sub_crsres"
   ]
  },
  {
   "cell_type": "code",
   "execution_count": 64,
   "metadata": {},
   "outputs": [
    {
     "data": {
      "text/plain": [
       "(53421,)"
      ]
     },
     "execution_count": 64,
     "metadata": {},
     "output_type": "execute_result"
    }
   ],
   "source": [
    "lat_sub_crsres.shape"
   ]
  },
  {
   "cell_type": "code",
   "execution_count": null,
   "metadata": {},
   "outputs": [],
   "source": []
  },
  {
   "cell_type": "code",
   "execution_count": 65,
   "metadata": {},
   "outputs": [
    {
     "data": {
      "text/plain": [
       "[0.019630432,\n",
       " 0.019489288,\n",
       " 0.01935196,\n",
       " 0.019210815,\n",
       " 0.31324768,\n",
       " 0.02041626,\n",
       " 0.02027893,\n",
       " 0.020137787,\n",
       " 0.019996643,\n",
       " 0.0198555,\n",
       " 0.019721985,\n",
       " 0.019577026,\n",
       " 0.019439697,\n",
       " 0.019298553,\n",
       " 0.01915741,\n",
       " 0.01902008,\n",
       " 0.018878937,\n",
       " 0.018737793,\n",
       " 0.01859665,\n",
       " 0.01845932,\n",
       " 0.018318176,\n",
       " 0.4247284,\n",
       " 0.020362854,\n",
       " 0.02022171,\n",
       " 0.020084381,\n",
       " 0.019943237,\n",
       " 0.019805908,\n",
       " 0.01966858,\n",
       " 0.01952362,\n",
       " 0.019390106,\n",
       " 0.019245148,\n",
       " 0.019107819,\n",
       " 0.01897049,\n",
       " 0.018829346,\n",
       " 0.018688202,\n",
       " 0.018547058,\n",
       " 0.018409729,\n",
       " 0.01826477,\n",
       " 0.018131256,\n",
       " 0.017986298,\n",
       " 0.017845154,\n",
       " 0.017707825,\n",
       " 0.01756668,\n",
       " 0.017425537,\n",
       " 0.017284393,\n",
       " 0.54784775,\n",
       " 0.020305634,\n",
       " 0.02017212,\n",
       " 0.020030975,\n",
       " 0.019889832,\n",
       " 0.019752502,\n",
       " 0.019615173,\n",
       " 0.01947403,\n",
       " 0.0193367,\n",
       " 0.019195557,\n",
       " 0.019058228,\n",
       " 0.018917084,\n",
       " 0.018779755,\n",
       " 0.01863861,\n",
       " 0.018497467,\n",
       " 0.018360138,\n",
       " 0.018218994,\n",
       " 0.018081665,\n",
       " 0.017936707,\n",
       " 0.017799377,\n",
       " 0.017662048,\n",
       " 0.01751709,\n",
       " 0.01737976,\n",
       " 0.017238617,\n",
       " 0.017097473,\n",
       " 0.01695633,\n",
       " 0.016819,\n",
       " 0.016674042,\n",
       " 0.016536713,\n",
       " 0.016391754,\n",
       " 0.016254425,\n",
       " 0.6838188,\n",
       " 0.020393372,\n",
       " 0.020252228,\n",
       " 0.020118713,\n",
       " 0.01997757,\n",
       " 0.019836426,\n",
       " 0.019702911,\n",
       " 0.019561768,\n",
       " 0.019424438,\n",
       " 0.019283295,\n",
       " 0.019145966,\n",
       " 0.019004822,\n",
       " 0.018867493,\n",
       " 0.018730164,\n",
       " 0.01858902,\n",
       " 0.018447876,\n",
       " 0.018310547,\n",
       " 0.018173218,\n",
       " 0.01802826,\n",
       " 0.01789093,\n",
       " 0.017753601,\n",
       " 0.017612457,\n",
       " 0.017471313,\n",
       " 0.017333984,\n",
       " 0.01719284,\n",
       " 0.017051697,\n",
       " 0.016910553,\n",
       " 0.016773224,\n",
       " 0.01663208,\n",
       " 0.016490936,\n",
       " 0.016349792,\n",
       " 0.016208649,\n",
       " 0.01607132,\n",
       " 0.015926361,\n",
       " 0.015789032,\n",
       " 0.015647888,\n",
       " 0.01550293,\n",
       " 0.015365601,\n",
       " 0.015224457,\n",
       " 0.791832,\n",
       " 0.020336151,\n",
       " 0.020202637,\n",
       " 0.020061493,\n",
       " 0.019927979,\n",
       " 0.019786835,\n",
       " 0.01964569,\n",
       " 0.019512177,\n",
       " 0.019371033,\n",
       " 0.019233704,\n",
       " 0.01909256,\n",
       " 0.018959045,\n",
       " 0.018817902,\n",
       " 0.018676758,\n",
       " 0.018539429,\n",
       " 0.0184021,\n",
       " 0.018260956,\n",
       " 0.018123627,\n",
       " 0.017982483,\n",
       " 0.017845154,\n",
       " 0.01770401,\n",
       " 0.017562866,\n",
       " 0.017425537,\n",
       " 0.017288208,\n",
       " 0.017147064,\n",
       " 0.01700592,\n",
       " 0.016864777,\n",
       " 0.016727448,\n",
       " 0.016586304,\n",
       " 0.016448975,\n",
       " 0.016304016,\n",
       " 0.016166687,\n",
       " 0.016025543,\n",
       " 0.015888214,\n",
       " 0.015743256,\n",
       " 0.0156059265,\n",
       " 0.015464783,\n",
       " 0.015323639,\n",
       " 0.015182495,\n",
       " 0.015045166,\n",
       " 0.0149002075,\n",
       " 0.014759064,\n",
       " 0.014621735,\n",
       " 0.014476776,\n",
       " 0.014339447,\n",
       " 0.0141944885,\n",
       " 0.014057159,\n",
       " 0.9064255,\n",
       " 0.02028656,\n",
       " 0.020149231,\n",
       " 0.020008087,\n",
       " 0.019874573,\n",
       " 0.019733429,\n",
       " 0.0195961,\n",
       " 0.01945877,\n",
       " 0.019321442,\n",
       " 0.019180298,\n",
       " 0.019046783,\n",
       " 0.01890564,\n",
       " 0.018764496,\n",
       " 0.018630981,\n",
       " 0.018489838,\n",
       " 0.018352509,\n",
       " 0.018211365,\n",
       " 0.018074036,\n",
       " 0.017936707,\n",
       " 0.017795563,\n",
       " 0.017658234,\n",
       " 0.01751709,\n",
       " 0.01737976,\n",
       " 0.017242432,\n",
       " 0.017097473,\n",
       " 0.016963959,\n",
       " 0.016819,\n",
       " 0.016681671,\n",
       " 0.016544342,\n",
       " 0.016403198,\n",
       " 0.016262054,\n",
       " 0.016124725,\n",
       " 0.015983582,\n",
       " 0.015842438,\n",
       " 0.015701294,\n",
       " 0.015563965,\n",
       " 0.015422821,\n",
       " 0.015281677,\n",
       " 0.015144348,\n",
       " 0.01499939,\n",
       " 0.014862061,\n",
       " 0.014720917,\n",
       " 0.014579773,\n",
       " 0.014442444,\n",
       " 0.014297485,\n",
       " 0.014156342,\n",
       " 0.014019012,\n",
       " 0.013877869,\n",
       " 0.01373291,\n",
       " 0.013595581,\n",
       " 0.013450623,\n",
       " 0.013313293,\n",
       " 0.01317215,\n",
       " 0.013027191,\n",
       " 0.012889862,\n",
       " 0.012744904,\n",
       " 1.0241165,\n",
       " 0.020233154,\n",
       " 0.02009201,\n",
       " 0.019958496,\n",
       " 0.019821167,\n",
       " 0.019680023,\n",
       " 0.019546509,\n",
       " 0.019405365,\n",
       " 0.01927185,\n",
       " 0.019130707,\n",
       " 0.018993378,\n",
       " 0.018856049,\n",
       " 0.01871872,\n",
       " 0.018577576,\n",
       " 0.018444061,\n",
       " 0.018302917,\n",
       " 0.018161774,\n",
       " 0.01802826,\n",
       " 0.017887115,\n",
       " 0.017749786,\n",
       " 0.017608643,\n",
       " 0.017471313,\n",
       " 0.017333984,\n",
       " 0.01719284,\n",
       " 0.017055511,\n",
       " 0.016918182,\n",
       " 0.016777039,\n",
       " 0.016635895,\n",
       " 0.016498566,\n",
       " 0.016357422,\n",
       " 0.016220093,\n",
       " 0.016078949,\n",
       " 0.01594162,\n",
       " 0.015800476,\n",
       " 0.015663147,\n",
       " 0.0155181885,\n",
       " 0.015384674,\n",
       " 0.015239716,\n",
       " 0.0151023865,\n",
       " 0.014961243,\n",
       " 0.014820099,\n",
       " 0.01468277,\n",
       " 0.014541626,\n",
       " 0.014400482,\n",
       " 0.014259338,\n",
       " 0.014118195,\n",
       " 0.0139808655,\n",
       " 0.013839722,\n",
       " 0.013698578,\n",
       " 0.013557434,\n",
       " 0.01341629,\n",
       " 0.0132751465,\n",
       " 0.013134003,\n",
       " 0.012996674,\n",
       " 0.012851715,\n",
       " 0.012714386,\n",
       " 0.0125694275,\n",
       " 0.012428284,\n",
       " 0.012290955,\n",
       " 0.012145996,\n",
       " 0.012008667,\n",
       " 0.0118637085,\n",
       " 0.011722565,\n",
       " 0.011581421,\n",
       " 0.011440277,\n",
       " 0.011299133,\n",
       " 1.1410446,\n",
       " 0.020179749,\n",
       " 0.02004242,\n",
       " 0.01990509,\n",
       " 0.019767761,\n",
       " 0.019630432,\n",
       " 0.019493103,\n",
       " 0.019355774,\n",
       " 0.019218445,\n",
       " 0.019081116,\n",
       " 0.018943787,\n",
       " 0.018806458,\n",
       " 0.018669128,\n",
       " 0.018527985,\n",
       " 0.01839447,\n",
       " 0.018253326,\n",
       " 0.018115997,\n",
       " 0.017978668,\n",
       " 0.01784134,\n",
       " 0.017700195,\n",
       " 0.017562866,\n",
       " 0.017425537,\n",
       " 0.017288208,\n",
       " 0.017147064,\n",
       " 0.017009735,\n",
       " 0.016872406,\n",
       " 0.016731262,\n",
       " 0.016593933,\n",
       " 0.01645279,\n",
       " 0.01631546,\n",
       " 0.016174316,\n",
       " 0.016036987,\n",
       " 0.015899658,\n",
       " 0.015758514,\n",
       " 0.015617371,\n",
       " 0.0154800415,\n",
       " 0.015342712,\n",
       " 0.015197754,\n",
       " 0.015060425,\n",
       " 0.014923096,\n",
       " 0.014781952,\n",
       " 0.014640808,\n",
       " 0.014503479,\n",
       " 0.014362335,\n",
       " 0.014221191,\n",
       " 0.014080048,\n",
       " 0.0139427185,\n",
       " 0.013801575,\n",
       " 0.013660431,\n",
       " 0.013523102,\n",
       " 0.013378143,\n",
       " 0.013240814,\n",
       " 0.01309967,\n",
       " 0.012958527,\n",
       " 0.0128211975,\n",
       " 0.012676239,\n",
       " 0.012535095,\n",
       " 0.012397766,\n",
       " 0.012256622,\n",
       " 0.012111664,\n",
       " 0.011974335,\n",
       " 0.011833191,\n",
       " 0.011692047,\n",
       " 0.011550903,\n",
       " 0.0114097595,\n",
       " 0.011264801,\n",
       " 0.011127472,\n",
       " 0.010986328,\n",
       " 0.010845184,\n",
       " 0.010700226,\n",
       " 0.010562897,\n",
       " 0.010417938,\n",
       " 0.010280609,\n",
       " 0.010135651,\n",
       " 0.009994507,\n",
       " 0.009853363,\n",
       " 0.009708405,\n",
       " 0.0,\n",
       " 0.009708405,\n",
       " 0.009853363,\n",
       " 1.2536125,\n",
       " 0.020263672,\n",
       " 0.020126343,\n",
       " 0.019989014,\n",
       " 0.019851685,\n",
       " 0.019714355,\n",
       " 0.019580841,\n",
       " 0.019439697,\n",
       " 0.019306183,\n",
       " 0.019168854,\n",
       " 0.01902771,\n",
       " 0.018894196,\n",
       " 0.018756866,\n",
       " 0.018619537,\n",
       " 0.018482208,\n",
       " 0.018341064,\n",
       " 0.01820755,\n",
       " 0.018066406,\n",
       " 0.017932892,\n",
       " 0.017791748,\n",
       " 0.017654419,\n",
       " 0.01751709,\n",
       " 0.01737976,\n",
       " 0.017238617,\n",
       " 0.017105103,\n",
       " 0.016963959,\n",
       " 0.01682663,\n",
       " 0.016685486,\n",
       " 0.016548157,\n",
       " 0.016410828,\n",
       " 0.016273499,\n",
       " 0.016132355,\n",
       " 0.015991211,\n",
       " 0.015857697,\n",
       " 0.015716553,\n",
       " 0.015575409,\n",
       " 0.01543808,\n",
       " 0.015300751,\n",
       " 0.015159607,\n",
       " 0.015022278,\n",
       " 0.014881134,\n",
       " 0.01473999,\n",
       " 0.014602661,\n",
       " 0.014461517,\n",
       " 0.014324188,\n",
       " 0.014183044,\n",
       " 0.014045715,\n",
       " 0.0139045715,\n",
       " 0.013763428,\n",
       " 0.013626099,\n",
       " 0.01348114,\n",
       " 0.013347626,\n",
       " 0.013202667,\n",
       " 0.013065338,\n",
       " 0.012924194,\n",
       " 0.012783051,\n",
       " 0.012641907,\n",
       " 0.012504578,\n",
       " 0.012363434,\n",
       " 0.01222229,\n",
       " 0.012081146,\n",
       " 0.011940002,\n",
       " 0.011802673,\n",
       " 0.011657715,\n",
       " 0.011520386,\n",
       " 0.011379242,\n",
       " 0.011234283,\n",
       " 0.011096954,\n",
       " 0.010955811,\n",
       " 0.010814667,\n",
       " 0.010673523,\n",
       " 0.010532379,\n",
       " 0.010391235,\n",
       " 0.010250092,\n",
       " 0.010108948,\n",
       " 0.009967804,\n",
       " 0.00982666,\n",
       " 0.009685516,\n",
       " 0.009544373,\n",
       " 0.009399414,\n",
       " 0.009262085,\n",
       " 0.009117126,\n",
       " 0.008979797,\n",
       " 0.008834839,\n",
       " 0.008693695,\n",
       " 0.008552551,\n",
       " 0.008407593,\n",
       " 0.008270264,\n",
       " 0.008125305,\n",
       " 0.007987976,\n",
       " 0.007843018,\n",
       " 0.007698059,\n",
       " 0.0,\n",
       " 0.007698059,\n",
       " 0.007843018,\n",
       " 0.007987976,\n",
       " 0.008125305,\n",
       " 0.008270264,\n",
       " 0.008407593,\n",
       " 0.008552551,\n",
       " 0.008693695,\n",
       " 0.008834839,\n",
       " 0.008979797,\n",
       " 0.009117126,\n",
       " 0.009262085,\n",
       " 0.009399414,\n",
       " 0.009544373,\n",
       " 0.009685516,\n",
       " 0.00982666,\n",
       " 1.2505684,\n",
       " 0.020210266,\n",
       " 0.020072937,\n",
       " 0.019935608,\n",
       " 0.019802094,\n",
       " 0.019664764,\n",
       " 0.01952362,\n",
       " 0.01939392,\n",
       " 0.019252777,\n",
       " 0.019115448,\n",
       " 0.018981934,\n",
       " 0.018844604,\n",
       " 0.018707275,\n",
       " 0.018566132,\n",
       " 0.018432617,\n",
       " 0.018295288,\n",
       " 0.018157959,\n",
       " 0.01802063,\n",
       " 0.0178833,\n",
       " 0.017745972,\n",
       " 0.017608643,\n",
       " 0.017471313,\n",
       " 0.01733017,\n",
       " 0.017196655,\n",
       " 0.017055511,\n",
       " 0.016918182,\n",
       " 0.016784668,\n",
       " 0.01663971,\n",
       " 0.016506195,\n",
       " 0.016365051,\n",
       " 0.016227722,\n",
       " 0.016090393,\n",
       " 0.015953064,\n",
       " 0.01581192,\n",
       " 0.015674591,\n",
       " 0.015537262,\n",
       " 0.015396118,\n",
       " 0.015258789,\n",
       " 0.015117645,\n",
       " 0.014980316,\n",
       " 0.014842987,\n",
       " 0.014701843,\n",
       " 0.014560699,\n",
       " 0.014427185,\n",
       " 0.014282227,\n",
       " 0.014144897,\n",
       " 0.014007568,\n",
       " 0.013866425,\n",
       " 0.013729095,\n",
       " 0.013587952,\n",
       " 0.013446808,\n",
       " 0.013309479,\n",
       " 0.013168335,\n",
       " 0.013027191,\n",
       " 0.012889862,\n",
       " 0.012748718,\n",
       " 0.012611389,\n",
       " 0.012470245,\n",
       " 0.012329102,\n",
       " 0.012187958,\n",
       " 0.012050629,\n",
       " 0.01190567,\n",
       " 0.011772156,\n",
       " 0.011627197,\n",
       " 0.0114860535,\n",
       " 0.011348724,\n",
       " 0.011207581,\n",
       " 0.011066437,\n",
       " 0.010925293,\n",
       " 0.010784149,\n",
       " 0.01064682,\n",
       " 0.010501862,\n",
       " 0.0103645325,\n",
       " 0.010219574,\n",
       " 0.010082245,\n",
       " 0.009941101,\n",
       " 0.009799957,\n",
       " 0.0096588135,\n",
       " 0.00951767,\n",
       " 0.009376526,\n",
       " 0.009235382,\n",
       " 0.009094238,\n",
       " 0.00894928,\n",
       " 0.008811951,\n",
       " 0.008670807,\n",
       " 0.008529663,\n",
       " 0.008388519,\n",
       " 0.008243561,\n",
       " 0.008106232,\n",
       " 0.007965088,\n",
       " 0.007820129,\n",
       " 0.0076789856,\n",
       " 0.007537842,\n",
       " 0.007396698,\n",
       " 0.007255554,\n",
       " 0.0071144104,\n",
       " 0.0069732666,\n",
       " 0.006828308,\n",
       " 0.0066871643,\n",
       " 0.0065460205,\n",
       " 0.0064048767,\n",
       " 0.006263733,\n",
       " 0.006122589,\n",
       " 0.0059776306,\n",
       " 0.005836487,\n",
       " 0.005695343,\n",
       " 0.0055503845,\n",
       " 0.0054130554,\n",
       " 0.005268097,\n",
       " 0.005126953,\n",
       " 0.0049819946,\n",
       " 0.0048446655,\n",
       " 0.0,\n",
       " 0.0048446655,\n",
       " 0.0049819946,\n",
       " 0.005126953,\n",
       " 0.005268097,\n",
       " 0.0054130554,\n",
       " 0.0055503845,\n",
       " 0.005695343,\n",
       " 0.005836487,\n",
       " 0.0059776306,\n",
       " 0.006122589,\n",
       " 0.006263733,\n",
       " 0.0064048767,\n",
       " 0.0065460205,\n",
       " 0.0066871643,\n",
       " 0.006828308,\n",
       " 0.0069732666,\n",
       " 0.0071144104,\n",
       " 0.007255554,\n",
       " 0.007396698,\n",
       " 0.007537842,\n",
       " 0.0076789856,\n",
       " 0.007820129,\n",
       " 0.007965088,\n",
       " 0.008106232,\n",
       " 0.008243561,\n",
       " 0.008388519,\n",
       " 0.008529663,\n",
       " 0.008670807,\n",
       " 0.008811951,\n",
       " 0.00894928,\n",
       " 0.009094238,\n",
       " 0.009235382,\n",
       " 0.009376526,\n",
       " 0.00951767,\n",
       " 0.0096588135,\n",
       " 0.009799957,\n",
       " 1.2475357,\n",
       " 0.02015686,\n",
       " 0.020019531,\n",
       " 0.019886017,\n",
       " 0.019748688,\n",
       " 0.019611359,\n",
       " 0.01947403,\n",
       " 0.019340515,\n",
       " 0.019203186,\n",
       " 0.019065857,\n",
       " 0.018932343,\n",
       " 0.018795013,\n",
       " 0.01865387,\n",
       " 0.018520355,\n",
       " 0.01838684,\n",
       " 0.018245697,\n",
       " 0.018108368,\n",
       " 0.017974854,\n",
       " 0.01783371,\n",
       " 0.017700195,\n",
       " 0.017559052,\n",
       " 0.017425537,\n",
       " 0.017288208,\n",
       " 0.017147064,\n",
       " 0.01701355,\n",
       " 0.016872406,\n",
       " 0.016735077,\n",
       " 0.016601562,\n",
       " 0.016460419,\n",
       " 0.01632309,\n",
       " 0.016181946,\n",
       " 0.016048431,\n",
       " 0.015907288,\n",
       " 0.015773773,\n",
       " 0.015628815,\n",
       " 0.0154953,\n",
       " 0.015357971,\n",
       " 0.015216827,\n",
       " 0.015079498,\n",
       " 0.0149383545,\n",
       " 0.014801025,\n",
       " 0.014663696,\n",
       " 0.0145225525,\n",
       " 0.014385223,\n",
       " 0.014247894,\n",
       " 0.0141067505,\n",
       " 0.013969421,\n",
       " 0.013828278,\n",
       " 0.0136909485,\n",
       " 0.013553619,\n",
       " 0.013412476,\n",
       " 0.013271332,\n",
       " 0.013134003,\n",
       " 0.012992859,\n",
       " 0.01285553,\n",
       " 0.012714386,\n",
       " 0.012573242,\n",
       " 0.012435913,\n",
       " 0.012298584,\n",
       " 0.0121536255,\n",
       " 0.012016296,\n",
       " 0.011878967,\n",
       " 0.0117378235,\n",
       " 0.01159668,\n",
       " 0.011455536,\n",
       " 0.011318207,\n",
       " 0.011173248,\n",
       " 0.011039734,\n",
       " 0.010894775,\n",
       " 0.010757446,\n",
       " 0.010612488,\n",
       " 0.010475159,\n",
       " 0.01033783,\n",
       " 0.010192871,\n",
       " 0.010055542,\n",
       " 0.0099105835,\n",
       " 0.009773254,\n",
       " 0.009632111,\n",
       " 0.009490967,\n",
       " 0.009353638,\n",
       " 0.009208679,\n",
       " 0.00907135,\n",
       " 0.008926392,\n",
       " 0.0087890625,\n",
       " 0.008644104,\n",
       " 0.008506775,\n",
       " 0.008365631,\n",
       " 0.008224487,\n",
       " 0.008079529,\n",
       " 0.0079422,\n",
       " 0.007801056,\n",
       " 0.007659912,\n",
       " 0.0075187683,\n",
       " 0.00737381,\n",
       " 0.0072364807,\n",
       " 0.007095337,\n",
       " 0.0069503784,\n",
       " 0.0068130493,\n",
       " 0.006668091,\n",
       " 0.0065307617,\n",
       " 0.006385803,\n",
       " 0.0062446594,\n",
       " 0.0061035156,\n",
       " 0.005962372,\n",
       " 0.005821228,\n",
       " 0.005680084,\n",
       " 0.0055389404,\n",
       " 0.005393982,\n",
       " 0.005256653,\n",
       " 0.0051116943,\n",
       " 0.0049705505,\n",
       " 0.0048294067,\n",
       " 0.0046844482,\n",
       " 0.004547119,\n",
       " 0.0044021606,\n",
       " 0.0042648315,\n",
       " 0.004119873,\n",
       " 0.0039749146,\n",
       " 0.0038375854,\n",
       " 0.003692627,\n",
       " 0.0035552979,\n",
       " 0.0034103394,\n",
       " 0.0032653809,\n",
       " 0.0031280518,\n",
       " 0.0029830933,\n",
       " 0.0028419495,\n",
       " 0.0027008057,\n",
       " 0.0025596619,\n",
       " 0.0024147034,\n",
       " 0.0022735596,\n",
       " 0.0021324158,\n",
       " 0.001991272,\n",
       " 0.0018463135,\n",
       " 0.0017051697,\n",
       " 0.0015640259,\n",
       " 0.0014228821,\n",
       " 0.0012779236,\n",
       " 0.0011367798,\n",
       " 0.000995636,\n",
       " 0.0008544922,\n",
       " 0.0007095337,\n",
       " 0.0005683899,\n",
       " 0.0004272461,\n",
       " 0.0002822876,\n",
       " 0.0001449585,\n",
       " 0.0,\n",
       " 0.0001449585,\n",
       " 0.0002822876,\n",
       " 0.0004272461,\n",
       " 0.0005683899,\n",
       " 0.0007095337,\n",
       " 0.0008544922,\n",
       " 0.000995636,\n",
       " 0.0011367798,\n",
       " 0.0012779236,\n",
       " 0.0014228821,\n",
       " 0.0015640259,\n",
       " 0.0017051697,\n",
       " 0.0018463135,\n",
       " 0.001991272,\n",
       " 0.0021324158,\n",
       " 0.0022735596,\n",
       " 0.0024147034,\n",
       " 0.0025596619,\n",
       " 0.0027008057,\n",
       " 0.0028419495,\n",
       " 0.0029830933,\n",
       " 0.0031280518,\n",
       " 0.0032653809,\n",
       " 0.0034103394,\n",
       " 0.0035552979,\n",
       " 0.003692627,\n",
       " 0.0038375854,\n",
       " 0.0039749146,\n",
       " 0.004119873,\n",
       " 0.0042648315,\n",
       " 0.0044021606,\n",
       " 0.004547119,\n",
       " 0.0046844482,\n",
       " 0.0048294067,\n",
       " 0.0049705505,\n",
       " 0.0051116943,\n",
       " 0.005256653,\n",
       " 0.005393982,\n",
       " 0.0055389404,\n",
       " 0.005680084,\n",
       " 0.005821228,\n",
       " 0.005962372,\n",
       " 0.0061035156,\n",
       " 0.0062446594,\n",
       " 0.006385803,\n",
       " 0.0065307617,\n",
       " 0.006668091,\n",
       " 0.0068130493,\n",
       " 0.0069503784,\n",
       " 0.007095337,\n",
       " 0.0072364807,\n",
       " 0.00737381,\n",
       " 0.0075187683,\n",
       " 0.007659912,\n",
       " 0.007801056,\n",
       " 0.0079422,\n",
       " 0.008079529,\n",
       " 0.008224487,\n",
       " 0.008365631,\n",
       " 0.008506775,\n",
       " 0.008644104,\n",
       " 0.0087890625,\n",
       " 0.008926392,\n",
       " 0.00907135,\n",
       " 0.009208679,\n",
       " 0.009353638,\n",
       " 0.009490967,\n",
       " 0.009632111,\n",
       " 0.009773254,\n",
       " 1.2445107,\n",
       " 0.020103455,\n",
       " 0.019966125,\n",
       " 0.019832611,\n",
       " 0.019699097,\n",
       " 0.019557953,\n",
       " 0.019424438,\n",
       " 0.019290924,\n",
       " 0.01914978,\n",
       " 0.01902008,\n",
       " 0.018878937,\n",
       " 0.018745422,\n",
       " 0.018608093,\n",
       " 0.018470764,\n",
       " 0.018333435,\n",
       " 0.01819992,\n",
       " 0.018062592,\n",
       " 0.017925262,\n",
       " 0.017787933,\n",
       " 0.017650604,\n",
       " 0.01751709,\n",
       " 0.017375946,\n",
       " 0.017242432,\n",
       " 0.017101288,\n",
       " 0.016967773,\n",
       " 0.01682663,\n",
       " 0.016693115,\n",
       " 0.016555786,\n",
       " 0.016414642,\n",
       " 0.016281128,\n",
       " 0.016139984,\n",
       " 0.01600647,\n",
       " 0.015865326,\n",
       " 0.015727997,\n",
       " 0.015590668,\n",
       " 0.015453339,\n",
       " 0.0153160095,\n",
       " 0.015174866,\n",
       " 0.015037537,\n",
       " 0.0149002075,\n",
       " 0.014762878,\n",
       " 0.014625549,\n",
       " 0.0144844055,\n",
       " 0.014347076,\n",
       " 0.014205933,\n",
       " 0.014072418,\n",
       " 0.013931274,\n",
       " 0.013790131,\n",
       " 0.0136528015,\n",
       " 0.013515472,\n",
       " 0.013378143,\n",
       " 0.0132369995,\n",
       " 0.013095856,\n",
       " 0.012958527,\n",
       " 0.0128211975,\n",
       " 0.012680054,\n",
       " 0.012542725,\n",
       " 0.012401581,\n",
       " 0.012264252,\n",
       " 0.012123108,\n",
       " 0.011981964,\n",
       " 0.011844635,\n",
       " 0.011707306,\n",
       " 0.011566162,\n",
       " 0.011425018,\n",
       " 0.0112838745,\n",
       " 0.011146545,\n",
       " 0.011009216,\n",
       " 0.010864258,\n",
       " 0.010726929,\n",
       " 0.0105896,\n",
       " 0.010444641,\n",
       " 0.010307312,\n",
       " 0.010166168,\n",
       " 0.010028839,\n",
       " 0.009883881,\n",
       " 0.0097465515,\n",
       " 0.009605408,\n",
       " 0.009468079,\n",
       " 0.00932312,\n",
       " 0.009185791,\n",
       " 0.009044647,\n",
       " 0.008903503,\n",
       " 0.008766174,\n",
       " 0.008621216,\n",
       " 0.008483887,\n",
       " 0.008342743,\n",
       " 0.008201599,\n",
       " 0.008060455,\n",
       " 0.0079193115,\n",
       " 0.0077781677,\n",
       " 0.007637024,\n",
       " 0.007499695,\n",
       " 0.0073547363,\n",
       " 0.007217407,\n",
       " 0.0070724487,\n",
       " 0.0069351196,\n",
       " 0.006793976,\n",
       " 0.0066490173,\n",
       " 0.006511688,\n",
       " 0.0063705444,\n",
       " 0.0062294006,\n",
       " 0.006084442,\n",
       " 0.005947113,\n",
       " 0.0058059692,\n",
       " 0.0056648254,\n",
       " 0.005519867,\n",
       " 0.005382538,\n",
       " 0.0052375793,\n",
       " 0.0051002502,\n",
       " 0.0049552917,\n",
       " 0.0048179626,\n",
       " 0.004673004,\n",
       " 0.004535675,\n",
       " 0.0043907166,\n",
       " 0.0042495728,\n",
       " 0.004108429,\n",
       " 0.003967285,\n",
       " 0.0038261414,\n",
       " 0.0036811829,\n",
       " 0.0035438538,\n",
       " 0.00340271,\n",
       " 0.0032577515,\n",
       " 0.0031166077,\n",
       " 0.0029754639,\n",
       " 0.00283432,\n",
       " 0.0026931763,\n",
       " 0.0025520325,\n",
       " 0.0024108887,\n",
       " 0.0022659302,\n",
       " 0.002128601,\n",
       " 0.0019836426,\n",
       " 0.0018424988,\n",
       " 0.001701355,\n",
       " 0.0015602112,\n",
       " 0.0014152527,\n",
       " 0.0012779236,\n",
       " 0.0011329651,\n",
       " 0.0009918213,\n",
       " 0.0008506775,\n",
       " 0.0007095337,\n",
       " 0.0005645752,\n",
       " 0.0004272461,\n",
       " 0.0002822876,\n",
       " 0.0001411438,\n",
       " 0.0,\n",
       " 0.0001411438,\n",
       " 0.0002822876,\n",
       " 0.0004272461,\n",
       " 0.0005645752,\n",
       " 0.0007095337,\n",
       " 0.0008506775,\n",
       " 0.0009918213,\n",
       " 0.0011329651,\n",
       " 0.0012779236,\n",
       " 0.0014152527,\n",
       " 0.0015602112,\n",
       " 0.001701355,\n",
       " 0.0018424988,\n",
       " 0.0019836426,\n",
       " 0.002128601,\n",
       " 0.0022659302,\n",
       " 0.0024108887,\n",
       " ...]"
      ]
     },
     "execution_count": 65,
     "metadata": {},
     "output_type": "execute_result"
    }
   ],
   "source": [
    "l2=lat_sub_fnres.copy()\n",
    "\n",
    "[abs(l2[i-1]-l2[i]) for i in range(12,len(l2))]"
   ]
  },
  {
   "cell_type": "code",
   "execution_count": 66,
   "metadata": {},
   "outputs": [],
   "source": [
    "lat_sub_crsres = lats_fcrs[lat_ind_fcrs]\n",
    "lon_sub_crsres = lons_fcrs[lon_ind_fcrs]"
   ]
  },
  {
   "cell_type": "code",
   "execution_count": 56,
   "metadata": {},
   "outputs": [
    {
     "data": {
      "text/plain": [
       "((53621,), (53621,))"
      ]
     },
     "execution_count": 56,
     "metadata": {},
     "output_type": "execute_result"
    }
   ],
   "source": [
    "lat_sub_crsres.shape, lon_sub_crsres.shape"
   ]
  },
  {
   "cell_type": "code",
   "execution_count": 57,
   "metadata": {},
   "outputs": [],
   "source": [
    "l=lat_sub_crsres.copy()\n"
   ]
  },
  {
   "cell_type": "code",
   "execution_count": 58,
   "metadata": {},
   "outputs": [
    {
     "data": {
      "text/plain": [
       "[0.01964569,\n",
       " 0.019512177,\n",
       " 0.019371033,\n",
       " 0.1933136,\n",
       " 0.019733429,\n",
       " 0.0195961,\n",
       " 0.01945877,\n",
       " 0.019321442,\n",
       " 0.019180298,\n",
       " 0.019046783,\n",
       " 0.01890564,\n",
       " 0.018764496,\n",
       " 0.018630981,\n",
       " 0.018489838,\n",
       " 0.018352509,\n",
       " 0.32447815,\n",
       " 0.019680023,\n",
       " 0.019546509,\n",
       " 0.019405365,\n",
       " 0.01927185,\n",
       " 0.019130707,\n",
       " 0.018993378,\n",
       " 0.018856049,\n",
       " 0.01871872,\n",
       " 0.018577576,\n",
       " 0.018444061,\n",
       " 0.018302917,\n",
       " 0.018161774,\n",
       " 0.01802826,\n",
       " 0.017887115,\n",
       " 0.017749786,\n",
       " 0.017608643,\n",
       " 0.017471313,\n",
       " 0.4308319,\n",
       " 0.019630432,\n",
       " 0.019493103,\n",
       " 0.019355774,\n",
       " 0.019218445,\n",
       " 0.019081116,\n",
       " 0.018943787,\n",
       " 0.018806458,\n",
       " 0.018669128,\n",
       " 0.018527985,\n",
       " 0.01839447,\n",
       " 0.018253326,\n",
       " 0.018115997,\n",
       " 0.017978668,\n",
       " 0.01784134,\n",
       " 0.017700195,\n",
       " 0.017562866,\n",
       " 0.017425537,\n",
       " 0.017288208,\n",
       " 0.017147064,\n",
       " 0.017009735,\n",
       " 0.016872406,\n",
       " 0.016731262,\n",
       " 0.016593933,\n",
       " 0.01645279,\n",
       " 0.5480919,\n",
       " 0.019580841,\n",
       " 0.019439697,\n",
       " 0.019306183,\n",
       " 0.019168854,\n",
       " 0.01902771,\n",
       " 0.018894196,\n",
       " 0.018756866,\n",
       " 0.018619537,\n",
       " 0.018482208,\n",
       " 0.018341064,\n",
       " 0.01820755,\n",
       " 0.018066406,\n",
       " 0.017932892,\n",
       " 0.017791748,\n",
       " 0.017654419,\n",
       " 0.01751709,\n",
       " 0.01737976,\n",
       " 0.017238617,\n",
       " 0.017105103,\n",
       " 0.016963959,\n",
       " 0.01682663,\n",
       " 0.016685486,\n",
       " 0.016548157,\n",
       " 0.016410828,\n",
       " 0.016273499,\n",
       " 0.016132355,\n",
       " 0.015991211,\n",
       " 0.015857697,\n",
       " 0.015716553,\n",
       " 0.015575409,\n",
       " 0.01543808,\n",
       " 0.65792465,\n",
       " 0.01952362,\n",
       " 0.01939392,\n",
       " 0.019252777,\n",
       " 0.019115448,\n",
       " 0.018981934,\n",
       " 0.018844604,\n",
       " 0.018707275,\n",
       " 0.018566132,\n",
       " 0.018432617,\n",
       " 0.018295288,\n",
       " 0.018157959,\n",
       " 0.01802063,\n",
       " 0.0178833,\n",
       " 0.017745972,\n",
       " 0.017608643,\n",
       " 0.017471313,\n",
       " 0.01733017,\n",
       " 0.017196655,\n",
       " 0.017055511,\n",
       " 0.016918182,\n",
       " 0.016784668,\n",
       " 0.01663971,\n",
       " 0.016506195,\n",
       " 0.016365051,\n",
       " 0.016227722,\n",
       " 0.016090393,\n",
       " 0.015953064,\n",
       " 0.01581192,\n",
       " 0.015674591,\n",
       " 0.015537262,\n",
       " 0.015396118,\n",
       " 0.015258789,\n",
       " 0.015117645,\n",
       " 0.014980316,\n",
       " 0.014842987,\n",
       " 0.014701843,\n",
       " 0.014560699,\n",
       " 0.014427185,\n",
       " 0.014282227,\n",
       " 0.7746582,\n",
       " 0.01947403,\n",
       " 0.019340515,\n",
       " 0.019203186,\n",
       " 0.019065857,\n",
       " 0.018932343,\n",
       " 0.018795013,\n",
       " 0.01865387,\n",
       " 0.018520355,\n",
       " 0.01838684,\n",
       " 0.018245697,\n",
       " 0.018108368,\n",
       " 0.017974854,\n",
       " 0.01783371,\n",
       " 0.017700195,\n",
       " 0.017559052,\n",
       " 0.017425537,\n",
       " 0.017288208,\n",
       " 0.017147064,\n",
       " 0.01701355,\n",
       " 0.016872406,\n",
       " 0.016735077,\n",
       " 0.016601562,\n",
       " 0.016460419,\n",
       " 0.01632309,\n",
       " 0.016181946,\n",
       " 0.016048431,\n",
       " 0.015907288,\n",
       " 0.015773773,\n",
       " 0.015628815,\n",
       " 0.0154953,\n",
       " 0.015357971,\n",
       " 0.015216827,\n",
       " 0.015079498,\n",
       " 0.0149383545,\n",
       " 0.014801025,\n",
       " 0.014663696,\n",
       " 0.0145225525,\n",
       " 0.014385223,\n",
       " 0.014247894,\n",
       " 0.0141067505,\n",
       " 0.013969421,\n",
       " 0.013828278,\n",
       " 0.0136909485,\n",
       " 0.013553619,\n",
       " 0.013412476,\n",
       " 0.013271332,\n",
       " 0.013134003,\n",
       " 0.012992859,\n",
       " 0.9144249,\n",
       " 0.019557953,\n",
       " 0.019424438,\n",
       " 0.019290924,\n",
       " 0.01914978,\n",
       " 0.01902008,\n",
       " 0.018878937,\n",
       " 0.018745422,\n",
       " 0.018608093,\n",
       " 0.018470764,\n",
       " 0.018333435,\n",
       " 0.01819992,\n",
       " 0.018062592,\n",
       " 0.017925262,\n",
       " 0.017787933,\n",
       " 0.017650604,\n",
       " 0.01751709,\n",
       " 0.017375946,\n",
       " 0.017242432,\n",
       " 0.017101288,\n",
       " 0.016967773,\n",
       " 0.01682663,\n",
       " 0.016693115,\n",
       " 0.016555786,\n",
       " 0.016414642,\n",
       " 0.016281128,\n",
       " 0.016139984,\n",
       " 0.01600647,\n",
       " 0.015865326,\n",
       " 0.015727997,\n",
       " 0.015590668,\n",
       " 0.015453339,\n",
       " 0.0153160095,\n",
       " 0.015174866,\n",
       " 0.015037537,\n",
       " 0.0149002075,\n",
       " 0.014762878,\n",
       " 0.014625549,\n",
       " 0.0144844055,\n",
       " 0.014347076,\n",
       " 0.014205933,\n",
       " 0.014072418,\n",
       " 0.013931274,\n",
       " 0.013790131,\n",
       " 0.0136528015,\n",
       " 0.013515472,\n",
       " 0.013378143,\n",
       " 0.0132369995,\n",
       " 0.013095856,\n",
       " 0.012958527,\n",
       " 0.0128211975,\n",
       " 0.012680054,\n",
       " 0.012542725,\n",
       " 0.012401581,\n",
       " 0.012264252,\n",
       " 0.012123108,\n",
       " 0.011981964,\n",
       " 0.011844635,\n",
       " 0.011707306,\n",
       " 0.011566162,\n",
       " 1.0342331,\n",
       " 0.019512177,\n",
       " 0.019371033,\n",
       " 0.019237518,\n",
       " 0.019104004,\n",
       " 0.018966675,\n",
       " 0.018829346,\n",
       " 0.018695831,\n",
       " 0.018558502,\n",
       " 0.018424988,\n",
       " 0.018283844,\n",
       " 0.01815033,\n",
       " 0.018016815,\n",
       " 0.017875671,\n",
       " 0.017742157,\n",
       " 0.017604828,\n",
       " 0.017467499,\n",
       " 0.017333984,\n",
       " 0.01719284,\n",
       " 0.017059326,\n",
       " 0.016921997,\n",
       " 0.016784668,\n",
       " 0.016647339,\n",
       " 0.01651001,\n",
       " 0.01637268,\n",
       " 0.016235352,\n",
       " 0.016098022,\n",
       " 0.015964508,\n",
       " 0.015823364,\n",
       " 0.015686035,\n",
       " 0.015548706,\n",
       " 0.015411377,\n",
       " 0.015274048,\n",
       " 0.015136719,\n",
       " 0.01499939,\n",
       " 0.014858246,\n",
       " 0.014724731,\n",
       " 0.014583588,\n",
       " 0.014446259,\n",
       " 0.014308929,\n",
       " 0.014167786,\n",
       " 0.014034271,\n",
       " 0.013893127,\n",
       " 0.013755798,\n",
       " 0.013614655,\n",
       " 0.01348114,\n",
       " 0.013339996,\n",
       " 0.013198853,\n",
       " 0.013065338,\n",
       " 0.012924194,\n",
       " 0.012783051,\n",
       " 0.012649536,\n",
       " 0.012504578,\n",
       " 0.012371063,\n",
       " 0.012229919,\n",
       " 0.012088776,\n",
       " 0.0119514465,\n",
       " 0.011814117,\n",
       " 0.011672974,\n",
       " 0.0115356445,\n",
       " 0.011394501,\n",
       " 0.011253357,\n",
       " 0.011116028,\n",
       " 0.010978699,\n",
       " 0.010837555,\n",
       " 0.010696411,\n",
       " 0.010559082,\n",
       " 0.010417938,\n",
       " 0.010280609,\n",
       " 0.010139465,\n",
       " 0.0,\n",
       " 0.010139465,\n",
       " 0.010280609,\n",
       " 0.010417938,\n",
       " 0.010559082,\n",
       " 0.010696411,\n",
       " 1.0873642,\n",
       " 0.01945877,\n",
       " 0.019321442,\n",
       " 0.019187927,\n",
       " 0.019054413,\n",
       " 0.018913269,\n",
       " 0.01878357,\n",
       " 0.01864624,\n",
       " 0.018508911,\n",
       " 0.018375397,\n",
       " 0.018238068,\n",
       " 0.018100739,\n",
       " 0.017967224,\n",
       " 0.017829895,\n",
       " 0.01769638,\n",
       " 0.017559052,\n",
       " 0.017421722,\n",
       " 0.017284393,\n",
       " 0.017150879,\n",
       " 0.017009735,\n",
       " 0.016880035,\n",
       " 0.016738892,\n",
       " 0.016601562,\n",
       " 0.016468048,\n",
       " 0.016330719,\n",
       " 0.016189575,\n",
       " 0.01605606,\n",
       " 0.015922546,\n",
       " 0.015781403,\n",
       " 0.015644073,\n",
       " 0.015506744,\n",
       " 0.015369415,\n",
       " 0.015235901,\n",
       " 0.015094757,\n",
       " 0.014957428,\n",
       " 0.014820099,\n",
       " 0.01468277,\n",
       " 0.014545441,\n",
       " 0.014408112,\n",
       " 0.0142707825,\n",
       " 0.014133453,\n",
       " 0.01399231,\n",
       " 0.013858795,\n",
       " 0.013717651,\n",
       " 0.013580322,\n",
       " 0.013442993,\n",
       " 0.013301849,\n",
       " 0.013168335,\n",
       " 0.013027191,\n",
       " 0.012889862,\n",
       " 0.012748718,\n",
       " 0.012615204,\n",
       " 0.01247406,\n",
       " 0.012332916,\n",
       " 0.012199402,\n",
       " 0.012058258,\n",
       " 0.011917114,\n",
       " 0.0117836,\n",
       " 0.011638641,\n",
       " 0.011505127,\n",
       " 0.011363983,\n",
       " 0.011226654,\n",
       " 0.01108551,\n",
       " 0.010948181,\n",
       " 0.010807037,\n",
       " 0.010669708,\n",
       " 0.010528564,\n",
       " 0.010391235,\n",
       " 0.010250092,\n",
       " 0.010112762,\n",
       " 0.009971619,\n",
       " 0.00983429,\n",
       " 0.009693146,\n",
       " 0.009552002,\n",
       " 0.009414673,\n",
       " 0.009277344,\n",
       " 0.009132385,\n",
       " 0.008998871,\n",
       " 0.008853912,\n",
       " 0.008716583,\n",
       " 0.008575439,\n",
       " 0.00843811,\n",
       " 0.008296967,\n",
       " 0.008155823,\n",
       " 0.0,\n",
       " 0.008155823,\n",
       " 0.008296967,\n",
       " 0.00843811,\n",
       " 0.008575439,\n",
       " 0.008716583,\n",
       " 0.008853912,\n",
       " 0.008998871,\n",
       " 0.009132385,\n",
       " 0.009277344,\n",
       " 0.009414673,\n",
       " 0.009552002,\n",
       " 0.009693146,\n",
       " 0.00983429,\n",
       " 0.009971619,\n",
       " 0.010112762,\n",
       " 0.010250092,\n",
       " 0.010391235,\n",
       " 0.010528564,\n",
       " 0.010669708,\n",
       " 1.084774,\n",
       " 0.019405365,\n",
       " 0.01927185,\n",
       " 0.019138336,\n",
       " 0.019001007,\n",
       " 0.018867493,\n",
       " 0.018733978,\n",
       " 0.018592834,\n",
       " 0.018463135,\n",
       " 0.018325806,\n",
       " 0.018188477,\n",
       " 0.018054962,\n",
       " 0.017921448,\n",
       " 0.017784119,\n",
       " 0.01764679,\n",
       " 0.017513275,\n",
       " 0.017375946,\n",
       " 0.017238617,\n",
       " 0.017105103,\n",
       " 0.016967773,\n",
       " 0.016830444,\n",
       " 0.01669693,\n",
       " 0.0165596,\n",
       " 0.016422272,\n",
       " 0.016284943,\n",
       " 0.016151428,\n",
       " 0.0160141,\n",
       " 0.015872955,\n",
       " 0.015743256,\n",
       " 0.015602112,\n",
       " 0.015464783,\n",
       " 0.015331268,\n",
       " 0.0151901245,\n",
       " 0.01505661,\n",
       " 0.014919281,\n",
       " 0.014781952,\n",
       " 0.014640808,\n",
       " 0.014507294,\n",
       " 0.014369965,\n",
       " 0.0142326355,\n",
       " 0.014095306,\n",
       " 0.013954163,\n",
       " 0.013820648,\n",
       " 0.013683319,\n",
       " 0.013542175,\n",
       " 0.013408661,\n",
       " 0.013267517,\n",
       " 0.013130188,\n",
       " 0.012992859,\n",
       " 0.01285553,\n",
       " 0.012714386,\n",
       " 0.012580872,\n",
       " 0.012439728,\n",
       " 0.012302399,\n",
       " 0.01216507,\n",
       " 0.012023926,\n",
       " 0.011886597,\n",
       " 0.011749268,\n",
       " 0.0116119385,\n",
       " 0.011470795,\n",
       " 0.011333466,\n",
       " 0.0111961365,\n",
       " 0.011054993,\n",
       " 0.010917664,\n",
       " 0.0107803345,\n",
       " 0.010639191,\n",
       " 0.010501862,\n",
       " 0.0103645325,\n",
       " 0.010223389,\n",
       " 0.010082245,\n",
       " 0.009944916,\n",
       " 0.009807587,\n",
       " 0.009666443,\n",
       " 0.009529114,\n",
       " 0.00938797,\n",
       " 0.009250641,\n",
       " 0.009109497,\n",
       " 0.008972168,\n",
       " 0.008831024,\n",
       " 0.008693695,\n",
       " 0.008552551,\n",
       " 0.008415222,\n",
       " 0.008274078,\n",
       " 0.008132935,\n",
       " 0.0079956055,\n",
       " 0.007854462,\n",
       " 0.0077171326,\n",
       " 0.007575989,\n",
       " 0.007434845,\n",
       " 0.007297516,\n",
       " 0.007156372,\n",
       " 0.007019043,\n",
       " 0.0068740845,\n",
       " 0.00674057,\n",
       " 0.0065956116,\n",
       " 0.0064582825,\n",
       " 0.0063171387,\n",
       " 0.0061798096,\n",
       " 0.006034851,\n",
       " 0.005897522,\n",
       " 0.005760193,\n",
       " 0.0,\n",
       " 0.005760193,\n",
       " 0.005897522,\n",
       " 0.006034851,\n",
       " 0.0061798096,\n",
       " 0.0063171387,\n",
       " 0.0064582825,\n",
       " 0.0065956116,\n",
       " 0.00674057,\n",
       " 0.0068740845,\n",
       " 0.007019043,\n",
       " 0.007156372,\n",
       " 0.007297516,\n",
       " 0.007434845,\n",
       " 0.007575989,\n",
       " 0.0077171326,\n",
       " 0.007854462,\n",
       " 0.0079956055,\n",
       " 0.008132935,\n",
       " 0.008274078,\n",
       " 0.008415222,\n",
       " 0.008552551,\n",
       " 0.008693695,\n",
       " 0.008831024,\n",
       " 0.008972168,\n",
       " 0.009109497,\n",
       " 0.009250641,\n",
       " 0.00938797,\n",
       " 0.009529114,\n",
       " 0.009666443,\n",
       " 0.009807587,\n",
       " 0.009944916,\n",
       " 0.010082245,\n",
       " 0.010223389,\n",
       " 0.0103645325,\n",
       " 0.010501862,\n",
       " 0.010639191,\n",
       " 1.0821953,\n",
       " 0.019359589,\n",
       " 0.019218445,\n",
       " 0.019088745,\n",
       " 0.018951416,\n",
       " 0.018817902,\n",
       " 0.018680573,\n",
       " 0.018550873,\n",
       " 0.018409729,\n",
       " 0.01828003,\n",
       " 0.0181427,\n",
       " 0.018005371,\n",
       " 0.017871857,\n",
       " 0.017738342,\n",
       " 0.017601013,\n",
       " 0.017463684,\n",
       " 0.01733017,\n",
       " 0.017196655,\n",
       " 0.017055511,\n",
       " 0.016925812,\n",
       " 0.016784668,\n",
       " 0.016651154,\n",
       " 0.01651764,\n",
       " 0.01638031,\n",
       " 0.016242981,\n",
       " 0.016105652,\n",
       " 0.015972137,\n",
       " 0.015830994,\n",
       " 0.015701294,\n",
       " 0.01556015,\n",
       " 0.015426636,\n",
       " 0.015285492,\n",
       " 0.015151978,\n",
       " 0.015018463,\n",
       " 0.014877319,\n",
       " 0.01473999,\n",
       " 0.014606476,\n",
       " 0.014469147,\n",
       " 0.014328003,\n",
       " 0.0141944885,\n",
       " 0.014057159,\n",
       " 0.01391983,\n",
       " 0.013782501,\n",
       " 0.013645172,\n",
       " 0.013507843,\n",
       " 0.013370514,\n",
       " 0.013233185,\n",
       " 0.013095856,\n",
       " 0.012958527,\n",
       " 0.012817383,\n",
       " 0.012683868,\n",
       " 0.012546539,\n",
       " 0.0124053955,\n",
       " 0.012268066,\n",
       " 0.012134552,\n",
       " 0.011993408,\n",
       " 0.011852264,\n",
       " 0.01171875,\n",
       " 0.011581421,\n",
       " 0.011440277,\n",
       " 0.011302948,\n",
       " 0.011165619,\n",
       " 0.011024475,\n",
       " 0.010887146,\n",
       " 0.010749817,\n",
       " 0.010612488,\n",
       " 0.010475159,\n",
       " 0.010334015,\n",
       " 0.010192871,\n",
       " 0.010059357,\n",
       " 0.009918213,\n",
       " 0.009780884,\n",
       " 0.00963974,\n",
       " 0.009502411,\n",
       " 0.009365082,\n",
       " 0.009223938,\n",
       " 0.009086609,\n",
       " 0.008945465,\n",
       " 0.008808136,\n",
       " 0.008670807,\n",
       " 0.008529663,\n",
       " 0.008388519,\n",
       " 0.00825119,\n",
       " 0.008113861,\n",
       " 0.007972717,\n",
       " 0.007835388,\n",
       " 0.0076942444,\n",
       " 0.0075569153,\n",
       " 0.0074157715,\n",
       " 0.0072746277,\n",
       " 0.0071372986,\n",
       " 0.0069999695,\n",
       " 0.0068588257,\n",
       " 0.006717682,\n",
       " 0.006580353,\n",
       " 0.006439209,\n",
       " 0.00630188,\n",
       " 0.006160736,\n",
       " 0.0060195923,\n",
       " 0.005882263,\n",
       " 0.0057411194,\n",
       " 0.0056037903,\n",
       " 0.0054626465,\n",
       " 0.0053215027,\n",
       " 0.0051841736,\n",
       " 0.00504303,\n",
       " 0.004901886,\n",
       " 0.004764557,\n",
       " 0.004623413,\n",
       " 0.0044822693,\n",
       " 0.00434494,\n",
       " 0.0042037964,\n",
       " 0.0040626526,\n",
       " 0.0039253235,\n",
       " 0.0037841797,\n",
       " 0.003643036,\n",
       " 0.003501892,\n",
       " 0.003364563,\n",
       " 0.0032234192,\n",
       " 0.00308609,\n",
       " 0.0029411316,\n",
       " 0.0028038025,\n",
       " 0.0026664734,\n",
       " 0.002521515,\n",
       " 0.0023841858,\n",
       " 0.002243042,\n",
       " 0.0021018982,\n",
       " 0.001964569,\n",
       " 0.0018196106,\n",
       " 0.0016822815,\n",
       " 0.0015449524,\n",
       " 0.0013999939,\n",
       " 0.0012626648,\n",
       " 0.001121521,\n",
       " 0.0009803772,\n",
       " 0.0008430481,\n",
       " 0.0007019043,\n",
       " 0.0005607605,\n",
       " 0.0004196167,\n",
       " 0.0002822876,\n",
       " 0.0001373291,\n",
       " 0.0,\n",
       " 0.0001373291,\n",
       " 0.0002822876,\n",
       " 0.0004196167,\n",
       " 0.0005607605,\n",
       " 0.0007019043,\n",
       " 0.0008430481,\n",
       " 0.0009803772,\n",
       " 0.001121521,\n",
       " 0.0012626648,\n",
       " 0.0013999939,\n",
       " 0.0015449524,\n",
       " 0.0016822815,\n",
       " 0.0018196106,\n",
       " 0.001964569,\n",
       " 0.0021018982,\n",
       " 0.002243042,\n",
       " 0.0023841858,\n",
       " 0.002521515,\n",
       " 0.0026664734,\n",
       " 0.0028038025,\n",
       " 0.0029411316,\n",
       " 0.00308609,\n",
       " 0.0032234192,\n",
       " 0.003364563,\n",
       " 0.003501892,\n",
       " 0.003643036,\n",
       " 0.0037841797,\n",
       " 0.0039253235,\n",
       " 0.0040626526,\n",
       " 0.0042037964,\n",
       " 0.00434494,\n",
       " 0.0044822693,\n",
       " 0.004623413,\n",
       " 0.004764557,\n",
       " 0.004901886,\n",
       " 0.00504303,\n",
       " 0.0051841736,\n",
       " 0.0053215027,\n",
       " 0.0054626465,\n",
       " 0.0056037903,\n",
       " 0.0057411194,\n",
       " 0.005882263,\n",
       " 0.0060195923,\n",
       " 0.006160736,\n",
       " 0.00630188,\n",
       " 0.006439209,\n",
       " 0.006580353,\n",
       " 0.006717682,\n",
       " 0.0068588257,\n",
       " 0.0069999695,\n",
       " 0.0071372986,\n",
       " 0.0072746277,\n",
       " 0.0074157715,\n",
       " 0.0075569153,\n",
       " 0.0076942444,\n",
       " 0.007835388,\n",
       " 0.007972717,\n",
       " 0.008113861,\n",
       " 0.00825119,\n",
       " 0.008388519,\n",
       " 0.008529663,\n",
       " 0.008670807,\n",
       " 0.008808136,\n",
       " 0.008945465,\n",
       " 0.009086609,\n",
       " 0.009223938,\n",
       " 0.009365082,\n",
       " 0.009502411,\n",
       " 0.00963974,\n",
       " 0.009780884,\n",
       " 0.009918213,\n",
       " 0.010059357,\n",
       " 0.010192871,\n",
       " 0.010334015,\n",
       " 0.010475159,\n",
       " 0.010612488,\n",
       " 1.09906,\n",
       " 0.019439697,\n",
       " 0.019306183,\n",
       " 0.019168854,\n",
       " 0.019039154,\n",
       " 0.018901825,\n",
       " 0.01876831,\n",
       " 0.018630981,\n",
       " 0.018501282,\n",
       " 0.018363953,\n",
       " 0.018230438,\n",
       " 0.01809311,\n",
       " 0.017959595,\n",
       " 0.01782608,\n",
       " 0.017688751,\n",
       " 0.017555237,\n",
       " 0.017417908,\n",
       " 0.017284393,\n",
       " 0.017150879,\n",
       " 0.01701355,\n",
       " 0.01687622,\n",
       " 0.016742706,\n",
       " 0.016609192,\n",
       " 0.016471863,\n",
       " 0.016334534,\n",
       " 0.01620102,\n",
       " 0.01606369,\n",
       " 0.015930176,\n",
       " 0.015789032,\n",
       " 0.015659332,\n",
       " 0.0155181885,\n",
       " 0.015384674,\n",
       " 0.015247345,\n",
       " 0.015113831,\n",
       " 0.014972687,\n",
       " 0.014839172,\n",
       " 0.014701843,\n",
       " 0.014568329,\n",
       " 0.014427185,\n",
       " 0.014293671,\n",
       " 0.014156342,\n",
       " 0.014019012,\n",
       " 0.013881683,\n",
       " 0.013748169,\n",
       " 0.013607025,\n",
       " 0.013473511,\n",
       " 0.013332367,\n",
       " 0.013198853,\n",
       " 0.013057709,\n",
       " 0.012924194,\n",
       " 0.012786865,\n",
       " 0.012649536,\n",
       " 0.012508392,\n",
       " 0.012374878,\n",
       " 0.012237549,\n",
       " 0.012096405,\n",
       " 0.011962891,\n",
       " 0.011821747,\n",
       " 0.011688232,\n",
       " 0.011547089,\n",
       " 0.0114097595,\n",
       " 0.01127243,\n",
       " 0.011135101,\n",
       " 0.010997772,\n",
       " 0.010860443,\n",
       " 0.010719299,\n",
       " 0.01058197,\n",
       " 0.010444641,\n",
       " 0.010307312,\n",
       " 0.010169983,\n",
       " 0.010028839,\n",
       " 0.00989151,\n",
       " 0.009754181,\n",
       " 0.009613037,\n",
       " 0.009479523,\n",
       " 0.009338379,\n",
       " 0.009197235,\n",
       " 0.009063721,\n",
       " 0.008922577,\n",
       " 0.008781433,\n",
       " 0.008647919,\n",
       " 0.008506775,\n",
       " 0.008365631,\n",
       " 0.008232117,\n",
       " 0.008087158,\n",
       " 0.007953644,\n",
       " 0.0078125,\n",
       " 0.007675171,\n",
       " 0.007534027,\n",
       " 0.007396698,\n",
       " 0.007255554,\n",
       " 0.007118225,\n",
       " 0.006980896,\n",
       " 0.006839752,\n",
       " 0.0066986084,\n",
       " 0.0065612793,\n",
       " 0.00642395,\n",
       " 0.0062828064,\n",
       " 0.0061454773,\n",
       " 0.0060043335,\n",
       " 0.0058670044,\n",
       " 0.0057258606,\n",
       " 0.005584717,\n",
       " 0.0054473877,\n",
       " 0.0053100586,\n",
       " 0.005168915,\n",
       " 0.005027771,\n",
       " 0.004890442,\n",
       " 0.004749298,\n",
       " 0.004611969,\n",
       " 0.004470825,\n",
       " 0.004333496,\n",
       " 0.0041923523,\n",
       " 0.0040512085,\n",
       " 0.0039138794,\n",
       " 0.0037727356,\n",
       " 0.0036354065,\n",
       " 0.0034942627,\n",
       " 0.003353119,\n",
       " 0.0032157898,\n",
       " 0.003074646,\n",
       " 0.002937317,\n",
       " 0.002796173,\n",
       " 0.0026550293,\n",
       " 0.0025177002,\n",
       " 0.0023765564,\n",
       " 0.0022354126,\n",
       " 0.0020980835,\n",
       " 0.0019569397,\n",
       " 0.0018196106,\n",
       " 0.0016746521,\n",
       " 0.0015411377,\n",
       " 0.0013961792,\n",
       " 0.0012588501,\n",
       " 0.0011177063,\n",
       " 0.0009803772,\n",
       " 0.0008392334,\n",
       " 0.0006980896,\n",
       " 0.0005607605,\n",
       " 0.0004196167,\n",
       " 0.0002784729,\n",
       " 0.0001411438,\n",
       " 0.0,\n",
       " 0.0001411438,\n",
       " 0.0002784729,\n",
       " 0.0004196167,\n",
       " 0.0005607605,\n",
       " 0.0006980896,\n",
       " 0.0008392334,\n",
       " 0.0009803772,\n",
       " 0.0011177063,\n",
       " 0.0012588501,\n",
       " 0.0013961792,\n",
       " 0.0015411377,\n",
       " 0.0016746521,\n",
       " 0.0018196106,\n",
       " 0.0019569397,\n",
       " 0.0020980835,\n",
       " 0.0022354126,\n",
       " 0.0023765564,\n",
       " 0.0025177002,\n",
       " 0.0026550293,\n",
       " 0.002796173,\n",
       " 0.002937317,\n",
       " 0.003074646,\n",
       " 0.0032157898,\n",
       " 0.003353119,\n",
       " 0.0034942627,\n",
       " 0.0036354065,\n",
       " 0.0037727356,\n",
       " 0.0039138794,\n",
       " 0.0040512085,\n",
       " 0.0041923523,\n",
       " 0.004333496,\n",
       " 0.004470825,\n",
       " 0.004611969,\n",
       " 0.004749298,\n",
       " 0.004890442,\n",
       " 0.005027771,\n",
       " 0.005168915,\n",
       " 0.0053100586,\n",
       " 0.0054473877,\n",
       " 0.005584717,\n",
       " 0.0057258606,\n",
       " 0.0058670044,\n",
       " 0.0060043335,\n",
       " 0.0061454773,\n",
       " 0.0062828064,\n",
       " 0.00642395,\n",
       " 0.0065612793,\n",
       " 0.0066986084,\n",
       " 0.006839752,\n",
       " 0.006980896,\n",
       " 0.007118225,\n",
       " 0.007255554,\n",
       " 0.007396698,\n",
       " 0.007534027,\n",
       " 0.007675171,\n",
       " 0.0078125,\n",
       " 0.007953644,\n",
       " 0.008087158,\n",
       " 0.008232117,\n",
       " 0.008365631,\n",
       " 0.008506775,\n",
       " 0.008647919,\n",
       " 0.008781433,\n",
       " 0.008922577,\n",
       " 0.009063721,\n",
       " 0.009197235,\n",
       " 0.009338379,\n",
       " 0.009479523,\n",
       " 0.009613037,\n",
       " 0.009754181,\n",
       " 0.00989151,\n",
       " 0.010028839,\n",
       " 0.010169983,\n",
       " 0.010307312,\n",
       " 0.010444641,\n",
       " 0.01058197,\n",
       " 0.010719299,\n",
       " 1.0857277,\n",
       " 0.019386292,\n",
       " 0.019256592,\n",
       " 0.019119263,\n",
       " 0.018989563,\n",
       " ...]"
      ]
     },
     "execution_count": 58,
     "metadata": {},
     "output_type": "execute_result"
    }
   ],
   "source": [
    "[abs(l[i-1]-l[i]) for i in range(1,len(l))]"
   ]
  },
  {
   "cell_type": "code",
   "execution_count": null,
   "metadata": {},
   "outputs": [],
   "source": []
  },
  {
   "cell_type": "code",
   "execution_count": 59,
   "metadata": {},
   "outputs": [
    {
     "data": {
      "text/plain": [
       "(53621,)"
      ]
     },
     "execution_count": 59,
     "metadata": {},
     "output_type": "execute_result"
    }
   ],
   "source": [
    "lat_sub_crsres.shape"
   ]
  },
  {
   "cell_type": "code",
   "execution_count": 60,
   "metadata": {},
   "outputs": [
    {
     "data": {
      "text/plain": [
       "masked_array(\n",
       "  data=[[ 45.62579 ,  45.69046 ,  45.755   , ...,  45.755   ,  45.69046 ,\n",
       "          45.62579 ],\n",
       "        [ 45.5371  ,  45.601627,  45.66602 , ...,  45.66602 ,  45.601627,\n",
       "          45.5371  ],\n",
       "        [ 45.448296,  45.512672,  45.57692 , ...,  45.57692 ,  45.512672,\n",
       "          45.448296],\n",
       "        ...,\n",
       "        [ -9.823948,  -9.806774,  -9.789657, ...,  -9.789657,  -9.806774,\n",
       "          -9.823948],\n",
       "        [ -9.937964,  -9.92085 ,  -9.90379 , ...,  -9.90379 ,  -9.92085 ,\n",
       "          -9.937964],\n",
       "        [-10.052032, -10.034977, -10.017977, ..., -10.017977, -10.034977,\n",
       "         -10.052032]],\n",
       "  mask=False,\n",
       "  fill_value=1e+20,\n",
       "  dtype=float32)"
      ]
     },
     "execution_count": 60,
     "metadata": {},
     "output_type": "execute_result"
    }
   ],
   "source": [
    "# checking the index for nest grid for orography and grid file\n",
    "lats_frs_nst = f.variables['geolat'][:,:]\n",
    "lons_frs_nst = f.variables['geolon'][:,:]\n",
    "lats_frs_nst"
   ]
  },
  {
   "cell_type": "code",
   "execution_count": 61,
   "metadata": {},
   "outputs": [
    {
     "data": {
      "text/plain": [
       "((540, 650), (540, 650))"
      ]
     },
     "execution_count": 61,
     "metadata": {},
     "output_type": "execute_result"
    }
   ],
   "source": [
    "lats_frs_nst.shape, lons_frs_nst.shape"
   ]
  },
  {
   "cell_type": "code",
   "execution_count": null,
   "metadata": {},
   "outputs": [],
   "source": []
  },
  {
   "cell_type": "code",
   "execution_count": 62,
   "metadata": {},
   "outputs": [
    {
     "data": {
      "text/plain": [
       "(array([114, 114, 114, ..., 404, 404, 404]),\n",
       " array([  0,   1, 649, ..., 372, 373, 374]))"
      ]
     },
     "execution_count": 62,
     "metadata": {},
     "output_type": "execute_result"
    }
   ],
   "source": [
    "lat_ind_fnst = np.where((lats_fres > latbnd[0]) & (lats_fres < latbnd[1]))\n",
    "lon_ind_fnst = np.where((lons_fres > lonbnd[0]) & (lons_fres < lonbnd[1]))\n",
    "lat_ind_fnst"
   ]
  },
  {
   "cell_type": "code",
   "execution_count": 63,
   "metadata": {},
   "outputs": [
    {
     "data": {
      "text/plain": [
       "149410"
      ]
     },
     "execution_count": 63,
     "metadata": {},
     "output_type": "execute_result"
    }
   ],
   "source": [
    "len(lat_ind_fnst[0])"
   ]
  },
  {
   "cell_type": "code",
   "execution_count": 64,
   "metadata": {},
   "outputs": [
    {
     "data": {
      "text/plain": [
       "(array([  0,   0,   0, ..., 539, 539, 539]),\n",
       " array([226, 227, 228, ..., 421, 422, 423]))"
      ]
     },
     "execution_count": 64,
     "metadata": {},
     "output_type": "execute_result"
    }
   ],
   "source": [
    "lon_ind_fnst"
   ]
  },
  {
   "cell_type": "code",
   "execution_count": 65,
   "metadata": {},
   "outputs": [
    {
     "ename": "NameError",
     "evalue": "name 'lats_fresg' is not defined",
     "output_type": "error",
     "traceback": [
      "\u001b[0;31m---------------------------------------------------------------------------\u001b[0m",
      "\u001b[0;31mNameError\u001b[0m                                 Traceback (most recent call last)",
      "Input \u001b[0;32mIn [65]\u001b[0m, in \u001b[0;36m<cell line: 1>\u001b[0;34m()\u001b[0m\n\u001b[0;32m----> 1\u001b[0m \u001b[43mlats_fresg\u001b[49m\n",
      "\u001b[0;31mNameError\u001b[0m: name 'lats_fresg' is not defined"
     ]
    }
   ],
   "source": [
    "lats_fresg"
   ]
  },
  {
   "cell_type": "raw",
   "metadata": {},
   "source": [
    "lat_ind_fresg = np.where((lats_fresg > latbnd[0]) & (lats_fresg < latbnd[1]) & (lons_fresg > lonbnd[0]) & (lons_fresg < lonbnd[1]))\n",
    "lon_ind_fresg = np.where((lats_fresg > latbnd[0]) & (lats_fresg < latbnd[1]) & (lons_fresg > lonbnd[0]) & (lons_fresg < lonbnd[1]))\n",
    "lat_ind_fresg"
   ]
  },
  {
   "cell_type": "raw",
   "metadata": {},
   "source": [
    "lon_ind_fresg"
   ]
  },
  {
   "cell_type": "code",
   "execution_count": 66,
   "metadata": {},
   "outputs": [
    {
     "ename": "NameError",
     "evalue": "name 'lon_ind_fresg' is not defined",
     "output_type": "error",
     "traceback": [
      "\u001b[0;31m---------------------------------------------------------------------------\u001b[0m",
      "\u001b[0;31mNameError\u001b[0m                                 Traceback (most recent call last)",
      "Input \u001b[0;32mIn [66]\u001b[0m, in \u001b[0;36m<cell line: 1>\u001b[0;34m()\u001b[0m\n\u001b[0;32m----> 1\u001b[0m np\u001b[38;5;241m.\u001b[39mmax(\u001b[43mlon_ind_fresg\u001b[49m), np\u001b[38;5;241m.\u001b[39mmin(lon_ind_fresg)\n",
      "\u001b[0;31mNameError\u001b[0m: name 'lon_ind_fresg' is not defined"
     ]
    }
   ],
   "source": [
    "np.max(lon_ind_fresg), np.min(lon_ind_fresg)"
   ]
  },
  {
   "cell_type": "code",
   "execution_count": 67,
   "metadata": {},
   "outputs": [
    {
     "ename": "NameError",
     "evalue": "name 'lons_fresg' is not defined",
     "output_type": "error",
     "traceback": [
      "\u001b[0;31m---------------------------------------------------------------------------\u001b[0m",
      "\u001b[0;31mNameError\u001b[0m                                 Traceback (most recent call last)",
      "Input \u001b[0;32mIn [67]\u001b[0m, in \u001b[0;36m<cell line: 1>\u001b[0;34m()\u001b[0m\n\u001b[0;32m----> 1\u001b[0m \u001b[43mlons_fresg\u001b[49m[lon_ind_fresg]\n",
      "\u001b[0;31mNameError\u001b[0m: name 'lons_fresg' is not defined"
     ]
    }
   ],
   "source": [
    "lons_fresg[lon_ind_fresg]"
   ]
  },
  {
   "cell_type": "code",
   "execution_count": 68,
   "metadata": {},
   "outputs": [
    {
     "ename": "NameError",
     "evalue": "name 'lat_ind_fresg' is not defined",
     "output_type": "error",
     "traceback": [
      "\u001b[0;31m---------------------------------------------------------------------------\u001b[0m",
      "\u001b[0;31mNameError\u001b[0m                                 Traceback (most recent call last)",
      "Input \u001b[0;32mIn [68]\u001b[0m, in \u001b[0;36m<cell line: 1>\u001b[0;34m()\u001b[0m\n\u001b[0;32m----> 1\u001b[0m \u001b[43mlat_ind_fresg\u001b[49m[\u001b[38;5;241m0\u001b[39m]\n",
      "\u001b[0;31mNameError\u001b[0m: name 'lat_ind_fresg' is not defined"
     ]
    }
   ],
   "source": [
    "lat_ind_fresg[0]"
   ]
  },
  {
   "cell_type": "code",
   "execution_count": 74,
   "metadata": {},
   "outputs": [],
   "source": [
    "import numpy as np\n",
    "#from wrf import getvar, get_cartopy, latlon_coords, geo_bounds\n",
    "import matplotlib.pyplot as plt\n",
    "import matplotlib as mpl\n",
    "import netCDF4 as nc\n",
    "#from cartopy import crs\n",
    "#from cartopy.feature import NaturalEarthFeature\n",
    "#import wrf"
   ]
  },
  {
   "cell_type": "code",
   "execution_count": 75,
   "metadata": {},
   "outputs": [],
   "source": [
    "def get_plot_element(infile):\n",
    "    f = nc.Dataset(infile, 'r')\n",
    "    p = f.variables['orog_raw']\n",
    "    #lats, lons = wrf.latlon_coords(p)\n",
    "    cart_proj = wrf.get_cartopy(p)\n",
    "    xlim = wrf.cartopy_xlim(p)\n",
    "    ylim = wrf.cartopy_ylim(p)\n",
    "    rootgroup.close()\n",
    "    return cart_proj, xlim, ylim"
   ]
  },
  {
   "cell_type": "code",
   "execution_count": null,
   "metadata": {},
   "outputs": [],
   "source": []
  },
  {
   "cell_type": "raw",
   "metadata": {},
   "source": [
    "infile_d01 = 'C769_oro_data.tile7.halo0.nc'\n",
    "cart_proj, xlim_d01, ylim_d01 = get_plot_element(infile_d01)\n",
    " \n",
    "infile_d02 = 'C769_oro_data.tile8.nc'\n",
    "_, xlim_d02, ylim_d02 = get_plot_element(infile_d02)\n",
    " \n",
    "#infile_d03 = 'domain_plot/wrfout_d03.2010-05-01_00:00:00.nc'\n",
    "#_, xlim_d03, ylim_d03 = get_plot_element(infile_d03)\n",
    " \n",
    "fig = plt.figure(figsize=(10,8))\n",
    "ax = plt.axes(projection=cart_proj)\n",
    " \n",
    "states = NaturalEarthFeature(category='cultural', scale='50m', facecolor='none',\n",
    "                             name='admin_1_states_provinces_shp')\n"
   ]
  },
  {
   "cell_type": "code",
   "execution_count": 77,
   "metadata": {},
   "outputs": [
    {
     "ename": "NameError",
     "evalue": "name 'ax' is not defined",
     "output_type": "error",
     "traceback": [
      "\u001b[0;31m---------------------------------------------------------------------------\u001b[0m",
      "\u001b[0;31mNameError\u001b[0m                                 Traceback (most recent call last)",
      "Input \u001b[0;32mIn [77]\u001b[0m, in \u001b[0;36m<cell line: 1>\u001b[0;34m()\u001b[0m\n\u001b[0;32m----> 1\u001b[0m \u001b[43max\u001b[49m\u001b[38;5;241m.\u001b[39madd_feature(states, linewidth\u001b[38;5;241m=\u001b[39m\u001b[38;5;241m0.5\u001b[39m)\n\u001b[1;32m      2\u001b[0m ax\u001b[38;5;241m.\u001b[39mcoastlines(\u001b[38;5;124m'\u001b[39m\u001b[38;5;124m50m\u001b[39m\u001b[38;5;124m'\u001b[39m, linewidth\u001b[38;5;241m=\u001b[39m\u001b[38;5;241m0.8\u001b[39m)\n\u001b[1;32m      4\u001b[0m \u001b[38;5;66;03m# d01\u001b[39;00m\n",
      "\u001b[0;31mNameError\u001b[0m: name 'ax' is not defined"
     ]
    }
   ],
   "source": [
    "ax.add_feature(states, linewidth=0.5)\n",
    "ax.coastlines('50m', linewidth=0.8)\n",
    " \n",
    "# d01\n",
    "ax.set_xlim([xlim_d01[0]-(xlim_d01[1]-xlim_d01[0])/15, xlim_d01[1]+(xlim_d01[1]-xlim_d01[0])/15])\n",
    "ax.set_ylim([ylim_d01[0]-(ylim_d01[1]-ylim_d01[0])/15, ylim_d01[1]+(ylim_d01[1]-ylim_d01[0])/15])\n",
    " \n",
    "# d01 box\n",
    "ax.add_patch(mpl.patches.Rectangle((xlim_d01[0], ylim_d01[0]), xlim_d01[1]-xlim_d01[0], ylim_d01[1]-ylim_d01[0],\n",
    "             fill=None, lw=3, edgecolor='blue', zorder=10))\n",
    "ax.text(xlim_d01[0]+(xlim_d01[1]-xlim_d01[0])*0.05, ylim_d01[0]+(ylim_d01[1]-ylim_d01[0])*0.9, 'D01',\n",
    "        size=15, color='blue', zorder=10)\n",
    " \n",
    "# d02 box\n",
    "ax.add_patch(mpl.patches.Rectangle((xlim_d02[0], ylim_d02[0]), xlim_d02[1]-xlim_d02[0], ylim_d02[1]-ylim_d02[0],\n",
    "             fill=None, lw=3, edgecolor='black', zorder=10))\n",
    "ax.text(xlim_d02[0]+(xlim_d02[1]-xlim_d02[0])*0.05, ylim_d02[0]+(ylim_d02[1]-ylim_d02[0])*1.1, 'D02',\n",
    "        size=15, color='black', zorder=10)\n",
    " \n",
    "# d03 box\n",
    "ax.add_patch(mpl.patches.Rectangle((xlim_d03[0], ylim_d03[0]), xlim_d03[1]-xlim_d03[0], ylim_d03[1]-ylim_d03[0],\n",
    "             fill=None, lw=3, edgecolor='red', zorder=10))\n",
    "ax.text(xlim_d03[0]+(xlim_d03[1]-xlim_d03[0])*0.1, ylim_d03[0]+(ylim_d03[1]-ylim_d03[0])*0.8, 'D03',\n",
    "        size=15, color='red', zorder=10)\n",
    " \n",
    "ax.set_title('WRF nested domain setup (2010Nash event)', size=20)\n",
    " \n",
    "plt.show()\n",
    "fig.savefig('WRF_domain_pywrf.big.png', dpi=600)"
   ]
  },
  {
   "cell_type": "code",
   "execution_count": 78,
   "metadata": {},
   "outputs": [
    {
     "ename": "ModuleNotFoundError",
     "evalue": "No module named 'wrf'",
     "output_type": "error",
     "traceback": [
      "\u001b[0;31m---------------------------------------------------------------------------\u001b[0m",
      "\u001b[0;31mModuleNotFoundError\u001b[0m                       Traceback (most recent call last)",
      "Input \u001b[0;32mIn [78]\u001b[0m, in \u001b[0;36m<cell line: 4>\u001b[0;34m()\u001b[0m\n\u001b[1;32m      1\u001b[0m \u001b[38;5;28;01mfrom\u001b[39;00m \u001b[38;5;21;01m__future__\u001b[39;00m \u001b[38;5;28;01mimport\u001b[39;00m print_function\n\u001b[1;32m      3\u001b[0m \u001b[38;5;28;01mfrom\u001b[39;00m \u001b[38;5;21;01mnetCDF4\u001b[39;00m \u001b[38;5;28;01mimport\u001b[39;00m Dataset\n\u001b[0;32m----> 4\u001b[0m \u001b[38;5;28;01mfrom\u001b[39;00m \u001b[38;5;21;01mwrf\u001b[39;00m \u001b[38;5;28;01mimport\u001b[39;00m getvar, disable_xarray\n\u001b[1;32m      6\u001b[0m ncfile \u001b[38;5;241m=\u001b[39m Dataset(\u001b[38;5;124m\"\u001b[39m\u001b[38;5;124mC769_oro_data.tile7.halo0.nc\u001b[39m\u001b[38;5;124m\"\u001b[39m)\n",
      "\u001b[0;31mModuleNotFoundError\u001b[0m: No module named 'wrf'"
     ]
    }
   ],
   "source": [
    "from __future__ import print_function\n",
    "\n",
    "from netCDF4 import Dataset\n",
    "from wrf import getvar, disable_xarray\n",
    "\n",
    "ncfile = Dataset(\"C769_oro_data.tile7.halo0.nc\")"
   ]
  },
  {
   "cell_type": "code",
   "execution_count": 79,
   "metadata": {},
   "outputs": [],
   "source": [
    "#orog = getvar(ncfile, \"orog_raw\")"
   ]
  },
  {
   "cell_type": "code",
   "execution_count": 4,
   "metadata": {},
   "outputs": [],
   "source": [
    "from mpl_toolkits.basemap import Basemap\n",
    "import matplotlib.pyplot as plt\n"
   ]
  },
  {
   "cell_type": "code",
   "execution_count": 5,
   "metadata": {},
   "outputs": [],
   "source": [
    "lat = ncfile.variables['geolat'][:]\n",
    "lon = ncfile.variables['geolon'][:]\n",
    "#time = nc.variables['time'][:]\n",
    "orog = ncfile.variables['orog_raw'][:] # 2 meter temperature\n",
    "map = Basemap(projection='merc',llcrnrlon=np.min(lon),llcrnrlat=np.min(lat),urcrnrlon=np.max(lon),urcrnrlat=np.max(lat),resolution='i') # projection, lat/lon extents and resolution of polygons to draw\n",
    "# resolutions: c - crude, l - low, i - intermediate, h - high, f - full"
   ]
  },
  {
   "cell_type": "code",
   "execution_count": null,
   "metadata": {},
   "outputs": [],
   "source": []
  },
  {
   "cell_type": "code",
   "execution_count": 6,
   "metadata": {},
   "outputs": [
    {
     "data": {
      "text/plain": [
       "[45.62579,\n",
       " 45.5371,\n",
       " 45.448296,\n",
       " 45.35937,\n",
       " 45.27033,\n",
       " 45.181168,\n",
       " 45.091892,\n",
       " 45.002502,\n",
       " 44.913,\n",
       " 44.82338,\n",
       " 44.73365,\n",
       " 44.64381,\n",
       " 44.553856,\n",
       " 44.463795,\n",
       " 44.373627,\n",
       " 44.283348,\n",
       " 44.192963,\n",
       " 44.102474,\n",
       " 44.011875,\n",
       " 43.921177,\n",
       " 43.83037,\n",
       " 43.739464,\n",
       " 43.648453,\n",
       " 43.557343,\n",
       " 43.46613,\n",
       " 43.37482,\n",
       " 43.28341,\n",
       " 43.191902,\n",
       " 43.100296,\n",
       " 43.00859,\n",
       " 42.916794,\n",
       " 42.824898,\n",
       " 42.73291,\n",
       " 42.64083,\n",
       " 42.548653,\n",
       " 42.456387,\n",
       " 42.36403,\n",
       " 42.271576,\n",
       " 42.17904,\n",
       " 42.086407,\n",
       " 41.99369,\n",
       " 41.900883,\n",
       " 41.807987,\n",
       " 41.715004,\n",
       " 41.621937,\n",
       " 41.528786,\n",
       " 41.435547,\n",
       " 41.342224,\n",
       " 41.248817,\n",
       " 41.155327,\n",
       " 41.061756,\n",
       " 40.9681,\n",
       " 40.874367,\n",
       " 40.780552,\n",
       " 40.686653,\n",
       " 40.592678,\n",
       " 40.498623,\n",
       " 40.40449,\n",
       " 40.31028,\n",
       " 40.215992,\n",
       " 40.121628,\n",
       " 40.027187,\n",
       " 39.93267,\n",
       " 39.83808,\n",
       " 39.743412,\n",
       " 39.648674,\n",
       " 39.55386,\n",
       " 39.458973,\n",
       " 39.364014,\n",
       " 39.268986,\n",
       " 39.17388,\n",
       " 39.07871,\n",
       " 38.983467,\n",
       " 38.888153,\n",
       " 38.79277,\n",
       " 38.69732,\n",
       " 38.601795,\n",
       " 38.50621,\n",
       " 38.410553,\n",
       " 38.31483,\n",
       " 38.21904,\n",
       " 38.123184,\n",
       " 38.02726,\n",
       " 37.931274,\n",
       " 37.83522,\n",
       " 37.739105,\n",
       " 37.642925,\n",
       " 37.54668,\n",
       " 37.450375,\n",
       " 37.354004,\n",
       " 37.257572,\n",
       " 37.161076,\n",
       " 37.06452,\n",
       " 36.967903,\n",
       " 36.871227,\n",
       " 36.774487,\n",
       " 36.67769,\n",
       " 36.58083,\n",
       " 36.483913,\n",
       " 36.38694,\n",
       " 36.289906,\n",
       " 36.19281,\n",
       " 36.09566,\n",
       " 35.998455,\n",
       " 35.901188,\n",
       " 35.803867,\n",
       " 35.70649,\n",
       " 35.60906,\n",
       " 35.511566,\n",
       " 35.414024,\n",
       " 35.31642,\n",
       " 35.21877,\n",
       " 35.12106,\n",
       " 35.0233,\n",
       " 34.925484,\n",
       " 34.827614,\n",
       " 34.72969,\n",
       " 34.631714,\n",
       " 34.533688,\n",
       " 34.435608,\n",
       " 34.337475,\n",
       " 34.239292,\n",
       " 34.14106,\n",
       " 34.042774,\n",
       " 33.94444,\n",
       " 33.84605,\n",
       " 33.747616,\n",
       " 33.649128,\n",
       " 33.550594,\n",
       " 33.452007,\n",
       " 33.353374,\n",
       " 33.254692,\n",
       " 33.15596,\n",
       " 33.057182,\n",
       " 32.958355,\n",
       " 32.85948,\n",
       " 32.76056,\n",
       " 32.66159,\n",
       " 32.562572,\n",
       " 32.46351,\n",
       " 32.3644,\n",
       " 32.265244,\n",
       " 32.166042,\n",
       " 32.066795,\n",
       " 31.967503,\n",
       " 31.868166,\n",
       " 31.768782,\n",
       " 31.669353,\n",
       " 31.569881,\n",
       " 31.470366,\n",
       " 31.370804,\n",
       " 31.271198,\n",
       " 31.17155,\n",
       " 31.071857,\n",
       " 30.972122,\n",
       " 30.872343,\n",
       " 30.772522,\n",
       " 30.672657,\n",
       " 30.57275,\n",
       " 30.472801,\n",
       " 30.372808,\n",
       " 30.272776,\n",
       " 30.1727,\n",
       " 30.072584,\n",
       " 29.972425,\n",
       " 29.872225,\n",
       " 29.771986,\n",
       " 29.671703,\n",
       " 29.57138,\n",
       " 29.47102,\n",
       " 29.370615,\n",
       " 29.270172,\n",
       " 29.16969,\n",
       " 29.069166,\n",
       " 28.968603,\n",
       " 28.868002,\n",
       " 28.767359,\n",
       " 28.66668,\n",
       " 28.565958,\n",
       " 28.465199,\n",
       " 28.3644,\n",
       " 28.263565,\n",
       " 28.162691,\n",
       " 28.061777,\n",
       " 27.960825,\n",
       " 27.859837,\n",
       " 27.758808,\n",
       " 27.657743,\n",
       " 27.55664,\n",
       " 27.4555,\n",
       " 27.354322,\n",
       " 27.253107,\n",
       " 27.151855,\n",
       " 27.050566,\n",
       " 26.94924,\n",
       " 26.847878,\n",
       " 26.746477,\n",
       " 26.64504,\n",
       " 26.543568,\n",
       " 26.44206,\n",
       " 26.340515,\n",
       " 26.238934,\n",
       " 26.137316,\n",
       " 26.035664,\n",
       " 25.933975,\n",
       " 25.83225,\n",
       " 25.730492,\n",
       " 25.628695,\n",
       " 25.526865,\n",
       " 25.425,\n",
       " 25.323097,\n",
       " 25.22116,\n",
       " 25.11919,\n",
       " 25.017185,\n",
       " 24.915144,\n",
       " 24.813068,\n",
       " 24.710958,\n",
       " 24.608814,\n",
       " 24.506636,\n",
       " 24.404423,\n",
       " 24.302174,\n",
       " 24.199892,\n",
       " 24.097576,\n",
       " 23.995228,\n",
       " 23.892843,\n",
       " 23.790426,\n",
       " 23.687975,\n",
       " 23.58549,\n",
       " 23.48297,\n",
       " 23.380417,\n",
       " 23.277832,\n",
       " 23.175213,\n",
       " 23.07256,\n",
       " 22.969873,\n",
       " 22.867155,\n",
       " 22.764402,\n",
       " 22.661615,\n",
       " 22.558798,\n",
       " 22.455946,\n",
       " 22.353062,\n",
       " 22.250143,\n",
       " 22.147192,\n",
       " 22.04421,\n",
       " 21.941193,\n",
       " 21.838144,\n",
       " 21.735064,\n",
       " 21.63195,\n",
       " 21.528803,\n",
       " 21.425625,\n",
       " 21.322412,\n",
       " 21.21917,\n",
       " 21.115892,\n",
       " 21.012585,\n",
       " 20.909243,\n",
       " 20.80587,\n",
       " 20.702465,\n",
       " 20.599028,\n",
       " 20.495558,\n",
       " 20.392056,\n",
       " 20.288523,\n",
       " 20.184956,\n",
       " 20.081358,\n",
       " 19.97773,\n",
       " 19.874067,\n",
       " 19.770374,\n",
       " 19.666649,\n",
       " 19.562891,\n",
       " 19.4591,\n",
       " 19.35528,\n",
       " 19.251427,\n",
       " 19.147543,\n",
       " 19.043627,\n",
       " 18.939678,\n",
       " 18.8357,\n",
       " 18.731688,\n",
       " 18.627644,\n",
       " 18.52357,\n",
       " 18.419462,\n",
       " 18.315325,\n",
       " 18.211155,\n",
       " 18.106953,\n",
       " 18.00272,\n",
       " 17.898457,\n",
       " 17.794159,\n",
       " 17.689833,\n",
       " 17.585472,\n",
       " 17.481083,\n",
       " 17.37666,\n",
       " 17.272205,\n",
       " 17.16772,\n",
       " 17.063204,\n",
       " 16.958656,\n",
       " 16.854076,\n",
       " 16.749464,\n",
       " 16.644821,\n",
       " 16.540148,\n",
       " 16.43544,\n",
       " 16.330704,\n",
       " 16.225935,\n",
       " 16.121134,\n",
       " 16.016302,\n",
       " 15.911438,\n",
       " 15.806542,\n",
       " 15.701615,\n",
       " 15.596658,\n",
       " 15.491668,\n",
       " 15.386646,\n",
       " 15.281592,\n",
       " 15.176508,\n",
       " 15.071391,\n",
       " 14.966244,\n",
       " 14.861064,\n",
       " 14.755852,\n",
       " 14.650609,\n",
       " 14.545334,\n",
       " 14.440028,\n",
       " 14.334689,\n",
       " 14.22932,\n",
       " 14.123918,\n",
       " 14.018484,\n",
       " 13.913019,\n",
       " 13.807522,\n",
       " 13.701992,\n",
       " 13.596432,\n",
       " 13.490838,\n",
       " 13.385214,\n",
       " 13.279556,\n",
       " 13.173868,\n",
       " 13.068147,\n",
       " 12.962394,\n",
       " 12.856609,\n",
       " 12.750792,\n",
       " 12.644943,\n",
       " 12.539062,\n",
       " 12.433147,\n",
       " 12.327202,\n",
       " 12.221224,\n",
       " 12.115213,\n",
       " 12.009171,\n",
       " 11.903096,\n",
       " 11.7969885,\n",
       " 11.690848,\n",
       " 11.584676,\n",
       " 11.478471,\n",
       " 11.372233,\n",
       " 11.265964,\n",
       " 11.159661,\n",
       " 11.053326,\n",
       " 10.946958,\n",
       " 10.840557,\n",
       " 10.734123,\n",
       " 10.627657,\n",
       " 10.521157,\n",
       " 10.414625,\n",
       " 10.30806,\n",
       " 10.201462,\n",
       " 10.0948305,\n",
       " 9.988166,\n",
       " 9.881468,\n",
       " 9.774737,\n",
       " 9.6679735,\n",
       " 9.561175,\n",
       " 9.454345,\n",
       " 9.347481,\n",
       " 9.240583,\n",
       " 9.133652,\n",
       " 9.026688,\n",
       " 8.919689,\n",
       " 8.812657,\n",
       " 8.705591,\n",
       " 8.598492,\n",
       " 8.491359,\n",
       " 8.3841915,\n",
       " 8.27699,\n",
       " 8.169755,\n",
       " 8.062486,\n",
       " 7.955182,\n",
       " 7.8478446,\n",
       " 7.740473,\n",
       " 7.6330667,\n",
       " 7.525626,\n",
       " 7.4181514,\n",
       " 7.310642,\n",
       " 7.203098,\n",
       " 7.0955195,\n",
       " 6.987906,\n",
       " 6.880258,\n",
       " 6.7725754,\n",
       " 6.6648574,\n",
       " 6.5571046,\n",
       " 6.449317,\n",
       " 6.341494,\n",
       " 6.2336364,\n",
       " 6.1257434,\n",
       " 6.0178146,\n",
       " 5.909851,\n",
       " 5.8018517,\n",
       " 5.693817,\n",
       " 5.585747,\n",
       " 5.477641,\n",
       " 5.369499,\n",
       " 5.2613215,\n",
       " 5.1531086,\n",
       " 5.0448594,\n",
       " 4.936574,\n",
       " 4.828253,\n",
       " 4.719895,\n",
       " 4.611501,\n",
       " 4.5030713,\n",
       " 4.3946047,\n",
       " 4.286102,\n",
       " 4.177562,\n",
       " 4.068986,\n",
       " 3.9603732,\n",
       " 3.8517234,\n",
       " 3.743037,\n",
       " 3.6343133,\n",
       " 3.525553,\n",
       " 3.4167552,\n",
       " 3.3079202,\n",
       " 3.199048,\n",
       " 3.0901384,\n",
       " 2.9811916,\n",
       " 2.872207,\n",
       " 2.7631848,\n",
       " 2.6541247,\n",
       " 2.545027,\n",
       " 2.4358914,\n",
       " 2.3267179,\n",
       " 2.217506,\n",
       " 2.108256,\n",
       " 1.998968,\n",
       " 1.8896415,\n",
       " 1.7802767,\n",
       " 1.6708732,\n",
       " 1.5614312,\n",
       " 1.4519503,\n",
       " 1.3424307,\n",
       " 1.2328722,\n",
       " 1.1232748,\n",
       " 1.0136381,\n",
       " 0.90396243,\n",
       " 0.7942474,\n",
       " 0.68449295,\n",
       " 0.57469904,\n",
       " 0.4648656,\n",
       " 0.35499245,\n",
       " 0.24507953,\n",
       " 0.13512674,\n",
       " 0.02513398,\n",
       " -0.08489885,\n",
       " -0.19497184,\n",
       " -0.30508512,\n",
       " -0.41523877,\n",
       " -0.5254329,\n",
       " -0.6356676,\n",
       " -0.745943,\n",
       " -0.85625917,\n",
       " -0.9666163,\n",
       " -1.0770143,\n",
       " -1.1874535,\n",
       " -1.2979339,\n",
       " -1.4084556,\n",
       " -1.5190188,\n",
       " -1.6296234,\n",
       " -1.7402697,\n",
       " -1.8509578,\n",
       " -1.9616877,\n",
       " -2.0724595,\n",
       " -2.1832736,\n",
       " -2.2941296,\n",
       " -2.405028,\n",
       " -2.515969,\n",
       " -2.6269524,\n",
       " -2.7379785,\n",
       " -2.8490474,\n",
       " -2.960159,\n",
       " -3.0713136,\n",
       " -3.1825116,\n",
       " -3.2937524,\n",
       " -3.405037,\n",
       " -3.5163646,\n",
       " -3.627736,\n",
       " -3.739151,\n",
       " -3.8506098,\n",
       " -3.9621127,\n",
       " -4.0736594,\n",
       " -4.1852503,\n",
       " -4.296886,\n",
       " -4.4085655,\n",
       " -4.52029,\n",
       " -4.6320586,\n",
       " -4.743872,\n",
       " -4.855731,\n",
       " -4.9676347,\n",
       " -5.079583,\n",
       " -5.1915774,\n",
       " -5.3036165,\n",
       " -5.415702,\n",
       " -5.5278325,\n",
       " -5.640009,\n",
       " -5.752231,\n",
       " -5.8644996,\n",
       " -5.9768143,\n",
       " -6.0891747,\n",
       " -6.2015824,\n",
       " -6.314036,\n",
       " -6.4265366,\n",
       " -6.539084,\n",
       " -6.6516786,\n",
       " -6.76432,\n",
       " -6.8770084,\n",
       " -6.9897447,\n",
       " -7.102528,\n",
       " -7.2153597,\n",
       " -7.3282385,\n",
       " -7.4411654,\n",
       " -7.5541406,\n",
       " -7.6671634,\n",
       " -7.780235,\n",
       " -7.893355,\n",
       " -8.006523,\n",
       " -8.1197405,\n",
       " -8.2330065,\n",
       " -8.346322,\n",
       " -8.459686,\n",
       " -8.5731,\n",
       " -8.6865635,\n",
       " -8.8000765,\n",
       " -8.913639,\n",
       " -9.027251,\n",
       " -9.140914,\n",
       " -9.254626,\n",
       " -9.368389,\n",
       " -9.482203,\n",
       " -9.596067,\n",
       " -9.709982,\n",
       " -9.823948,\n",
       " -9.937964,\n",
       " -10.052032]"
      ]
     },
     "execution_count": 6,
     "metadata": {},
     "output_type": "execute_result"
    }
   ],
   "source": [
    "lats1d = [i[0] for i in lat]\n",
    "lats1d"
   ]
  },
  {
   "cell_type": "code",
   "execution_count": 7,
   "metadata": {},
   "outputs": [
    {
     "data": {
      "text/plain": [
       "540"
      ]
     },
     "execution_count": 7,
     "metadata": {},
     "output_type": "execute_result"
    }
   ],
   "source": [
    "len(lats1d)"
   ]
  },
  {
   "cell_type": "code",
   "execution_count": 8,
   "metadata": {},
   "outputs": [
    {
     "data": {
      "text/plain": [
       "masked_array(data=[355.871  , 355.72812, 355.58505, 355.4418 , 355.29837,\n",
       "                   355.15472, 355.0109 , 354.86688, 354.7227 , 354.57828,\n",
       "                   354.4337 , 354.28888, 354.1439 , 353.9987 , 353.8533 ,\n",
       "                   353.70773, 353.56192, 353.41595, 353.26978, 353.12338,\n",
       "                   352.97678, 352.83   , 352.68298, 352.5358 , 352.38837,\n",
       "                   352.24075, 352.09293, 351.94492, 351.79666, 351.64822,\n",
       "                   351.49957, 351.3507 , 351.20163, 351.05234, 350.90283,\n",
       "                   350.7531 , 350.60318, 350.45303, 350.30267, 350.1521 ,\n",
       "                   350.0013 , 349.8503 , 349.69907, 349.5476 , 349.39597,\n",
       "                   349.24408, 349.09195, 348.93964, 348.78708, 348.6343 ,\n",
       "                   348.48132, 348.3281 , 348.17465, 348.021  , 347.8671 ,\n",
       "                   347.71298, 347.55862, 347.40405, 347.24924, 347.0942 ,\n",
       "                   346.93896, 346.78345, 346.62775, 346.4718 , 346.3156 ,\n",
       "                   346.15918, 346.00253, 345.84567, 345.68857, 345.53122,\n",
       "                   345.37363, 345.21582, 345.05777, 344.89948, 344.74094,\n",
       "                   344.58218, 344.4232 , 344.26395, 344.10446, 343.94476,\n",
       "                   343.7848 , 343.6246 , 343.46417, 343.3035 , 343.14258,\n",
       "                   342.9814 , 342.82   , 342.6584 , 342.4965 , 342.33438,\n",
       "                   342.172  , 342.0094 , 341.84653, 341.6834 , 341.52008,\n",
       "                   341.35648, 341.19266, 341.02856, 340.86423, 340.69965,\n",
       "                   340.53482, 340.36975, 340.20444, 340.03888, 339.87305,\n",
       "                   339.707  , 339.54068, 339.37415, 339.20734, 339.04028,\n",
       "                   338.87296, 338.7054 , 338.5376 , 338.36954, 338.20126,\n",
       "                   338.03268, 337.8639 , 337.69482, 337.52554, 337.356  ,\n",
       "                   337.18616, 337.0161 , 336.8458 , 336.67526, 336.50446,\n",
       "                   336.33337, 336.16208, 335.9905 , 335.8187 , 335.64664,\n",
       "                   335.4743 , 335.30176, 335.12894, 334.95587, 334.78253,\n",
       "                   334.60898, 334.43515, 334.26108, 334.08676, 333.91217,\n",
       "                   333.73734, 333.5623 , 333.38693, 333.21136, 333.03555,\n",
       "                   332.85947, 332.68314, 332.50656, 332.32974, 332.15268,\n",
       "                   331.97534, 331.7978 , 331.61996, 331.4419 , 331.26358,\n",
       "                   331.08502, 330.90622, 330.72717, 330.54788, 330.36832,\n",
       "                   330.18854, 330.00848, 329.82822, 329.64767, 329.46692,\n",
       "                   329.28592, 329.10464, 328.92316, 328.74142, 328.55942,\n",
       "                   328.3772 , 328.19473, 328.01202, 327.8291 , 327.6459 ,\n",
       "                   327.4625 , 327.27884, 327.09494, 326.9108 , 326.72644,\n",
       "                   326.5418 , 326.357  , 326.1719 , 325.9866 , 325.80106,\n",
       "                   325.6153 , 325.4293 , 325.24307, 325.0566 , 324.8699 ,\n",
       "                   324.68298, 324.49585, 324.30847, 324.12088, 323.93304,\n",
       "                   323.74503, 323.55673, 323.36826, 323.17953, 322.9906 ,\n",
       "                   322.80145, 322.6121 , 322.4225 , 322.2327 , 322.0427 ,\n",
       "                   321.85245, 321.662  , 321.47134, 321.2805 , 321.0894 ,\n",
       "                   320.8981 , 320.7066 , 320.5149 , 320.323  , 320.1309 ,\n",
       "                   319.93857, 319.74606, 319.55334, 319.3604 , 319.1673 ,\n",
       "                   318.974  , 318.7805 , 318.58676, 318.39288, 318.1988 ,\n",
       "                   318.00452, 317.81003, 317.6154 , 317.42053, 317.2255 ,\n",
       "                   317.03027, 316.8349 , 316.6393 , 316.44354, 316.24762,\n",
       "                   316.0515 , 315.85522, 315.65875, 315.46213, 315.26532,\n",
       "                   315.06836, 314.87122, 314.6739 , 314.47644, 314.2788 ,\n",
       "                   314.081  , 313.88306, 313.68494, 313.48666, 313.28824,\n",
       "                   313.08966, 312.89093, 312.69205, 312.49304, 312.29385,\n",
       "                   312.09454, 311.89508, 311.69547, 311.49573, 311.29587,\n",
       "                   311.09586, 310.8957 , 310.6954 , 310.495  , 310.29446,\n",
       "                   310.0938 , 309.893  , 309.6921 , 309.49106, 309.28992,\n",
       "                   309.08865, 308.88727, 308.68576, 308.48413, 308.28244,\n",
       "                   308.0806 , 307.87866, 307.67664, 307.4745 , 307.27225,\n",
       "                   307.06992, 306.8675 , 306.66498, 306.46234, 306.25964,\n",
       "                   306.05685, 305.85397, 305.651  , 305.44797, 305.24484,\n",
       "                   305.04166, 304.83838, 304.63504, 304.4316 , 304.22812,\n",
       "                   304.02457, 303.82095, 303.61728, 303.41354, 303.20975,\n",
       "                   303.0059 , 302.80197, 302.59802, 302.394  , 302.18994,\n",
       "                   301.98584, 301.7817 , 301.5775 , 301.3733 , 301.16904,\n",
       "                   300.96475, 300.7604 , 300.55606, 300.35168, 300.14728,\n",
       "                   299.94284, 299.73837, 299.5339 , 299.32944, 299.12494,\n",
       "                   298.9204 , 298.71588, 298.51135, 298.30682, 298.10226,\n",
       "                   297.89774, 297.69318, 297.48865, 297.28412, 297.0796 ,\n",
       "                   296.87506, 296.67056, 296.4661 , 296.26163, 296.05716,\n",
       "                   295.85272, 295.64832, 295.44394, 295.2396 , 295.03525,\n",
       "                   294.83096, 294.6267 , 294.4225 , 294.2183 , 294.01416,\n",
       "                   293.81006, 293.606  , 293.40198, 293.19803, 292.9941 ,\n",
       "                   292.79025, 292.58646, 292.38272, 292.17905, 291.97543,\n",
       "                   291.77188, 291.5684 , 291.36496, 291.16162, 290.95834,\n",
       "                   290.75516, 290.55203, 290.349  , 290.14603, 289.94315,\n",
       "                   289.74036, 289.53766, 289.33502, 289.1325 , 288.93008,\n",
       "                   288.72775, 288.5255 , 288.32336, 288.12134, 287.9194 ,\n",
       "                   287.71756, 287.51587, 287.31424, 287.11273, 286.91135,\n",
       "                   286.71008, 286.50894, 286.3079 , 286.107  , 285.9062 ,\n",
       "                   285.70554, 285.505  , 285.3046 , 285.1043 , 284.90414,\n",
       "                   284.70413, 284.50427, 284.30453, 284.10492, 283.90546,\n",
       "                   283.70615, 283.50696, 283.30795, 283.10907, 282.91034,\n",
       "                   282.71176, 282.51334, 282.31506, 282.11694, 281.919  ,\n",
       "                   281.7212 , 281.52356, 281.3261 , 281.12878, 280.93164,\n",
       "                   280.73468, 280.53787, 280.34125, 280.14478, 279.9485 ,\n",
       "                   279.75238, 279.55646, 279.3607 , 279.1651 , 278.96973,\n",
       "                   278.7745 , 278.57947, 278.3846 , 278.18997, 277.99548,\n",
       "                   277.8012 , 277.60712, 277.41324, 277.2195 , 277.026  ,\n",
       "                   276.8327 , 276.6396 , 276.44666, 276.25394, 276.06143,\n",
       "                   275.8691 , 275.677  , 275.4851 , 275.2934 , 275.1019 ,\n",
       "                   274.9106 , 274.7195 , 274.52866, 274.338  , 274.14755,\n",
       "                   273.9573 , 273.7673 , 273.5775 , 273.3879 , 273.19855,\n",
       "                   273.0094 , 272.82047, 272.63174, 272.44327, 272.25497,\n",
       "                   272.06696, 271.87912, 271.69153, 271.50415, 271.31702,\n",
       "                   271.1301 , 270.9434 , 270.75693, 270.5707 , 270.3847 ,\n",
       "                   270.19894, 270.0134 , 269.8281 , 269.643  , 269.4582 ,\n",
       "                   269.27356, 269.0892 , 268.90506, 268.72116, 268.5375 ,\n",
       "                   268.3541 , 268.1709 , 267.98798, 267.80527, 267.6228 ,\n",
       "                   267.44058, 267.25858, 267.07684, 266.89536, 266.71408,\n",
       "                   266.53308, 266.35233, 266.17178, 265.99152, 265.81146,\n",
       "                   265.63168, 265.45212, 265.27283, 265.09378, 264.91498,\n",
       "                   264.73642, 264.5581 , 264.38004, 264.2022 , 264.02466,\n",
       "                   263.84732, 263.67026, 263.49344, 263.31686, 263.14053,\n",
       "                   262.96445, 262.78864, 262.61307, 262.4377 , 262.26266,\n",
       "                   262.08783, 261.91324, 261.73892, 261.56485, 261.39102,\n",
       "                   261.21747, 261.04413, 260.87106, 260.69824, 260.5257 ,\n",
       "                   260.35336, 260.1813 , 260.0095 , 259.83792, 259.66663,\n",
       "                   259.49554, 259.32474, 259.1542 , 258.9839 , 258.81384,\n",
       "                   258.644  , 258.47446, 258.30518, 258.1361 , 257.96732,\n",
       "                   257.79874, 257.63046, 257.4624 , 257.2946 , 257.12704,\n",
       "                   256.95972, 256.79266, 256.62585, 256.45932, 256.293  ,\n",
       "                   256.12695, 255.96112, 255.79556, 255.63025, 255.46516,\n",
       "                   255.30035, 255.13577, 254.97144, 254.80736, 254.64352,\n",
       "                   254.47992, 254.31657, 254.15347, 253.99062, 253.828  ,\n",
       "                   253.66563, 253.50351, 253.34161, 253.17998, 253.01859,\n",
       "                   252.85742, 252.6965 , 252.53583, 252.3754 , 252.21521,\n",
       "                   252.05525, 251.89554, 251.73605, 251.57681, 251.41782,\n",
       "                   251.25906, 251.10054, 250.94225, 250.7842 , 250.62637,\n",
       "                   250.4688 , 250.31145, 250.15433, 249.99745, 249.8408 ,\n",
       "                   249.68439, 249.52821, 249.37225, 249.21654, 249.06105,\n",
       "                   248.90579, 248.75076, 248.59595, 248.44138, 248.28703,\n",
       "                   248.1329 , 247.97902, 247.82535, 247.6719 , 247.51868,\n",
       "                   247.36569, 247.21292, 247.06036, 246.90804, 246.75594,\n",
       "                   246.60405, 246.45238, 246.30093, 246.1497 , 245.99869,\n",
       "                   245.8479 , 245.69733, 245.54697, 245.39682, 245.24689,\n",
       "                   245.09717, 244.94768, 244.79839, 244.6493 , 244.50043,\n",
       "                   244.35178, 244.20332, 244.0551 , 243.90706, 243.75925,\n",
       "                   243.61163, 243.46422, 243.31702, 243.17001, 243.02322,\n",
       "                   242.87663, 242.73024, 242.58405, 242.43806, 242.29228,\n",
       "                   242.1467 , 242.00131, 241.85611, 241.71112, 241.56633,\n",
       "                   241.42172, 241.27731, 241.1331 , 240.98909, 240.84526,\n",
       "                   240.70163, 240.55818, 240.41493, 240.27187, 240.129  ],\n",
       "             mask=False,\n",
       "       fill_value=1e+20,\n",
       "            dtype=float32)"
      ]
     },
     "execution_count": 8,
     "metadata": {},
     "output_type": "execute_result"
    }
   ],
   "source": [
    "lons1d = lon[0,:]\n",
    "lons1d"
   ]
  },
  {
   "cell_type": "code",
   "execution_count": 9,
   "metadata": {},
   "outputs": [
    {
     "data": {
      "text/plain": [
       "[355.8710021972656,\n",
       " 355.7281188964844,\n",
       " 355.5850524902344,\n",
       " 355.4418029785156,\n",
       " 355.2983703613281,\n",
       " 355.15472412109375,\n",
       " 355.0108947753906,\n",
       " 354.86688232421875,\n",
       " 354.7226867675781,\n",
       " 354.5782775878906,\n",
       " 354.4336853027344,\n",
       " 354.28887939453125,\n",
       " 354.1438903808594,\n",
       " 353.9986877441406,\n",
       " 353.8533020019531,\n",
       " 353.7077331542969,\n",
       " 353.5619201660156,\n",
       " 353.41595458984375,\n",
       " 353.269775390625,\n",
       " 353.1233825683594,\n",
       " 352.9767761230469,\n",
       " 352.8299865722656,\n",
       " 352.6829833984375,\n",
       " 352.5357971191406,\n",
       " 352.38836669921875,\n",
       " 352.2407531738281,\n",
       " 352.0929260253906,\n",
       " 351.9449157714844,\n",
       " 351.7966613769531,\n",
       " 351.6482238769531,\n",
       " 351.49957275390625,\n",
       " 351.3507080078125,\n",
       " 351.2016296386719,\n",
       " 351.0523376464844,\n",
       " 350.90283203125,\n",
       " 350.75311279296875,\n",
       " 350.6031799316406,\n",
       " 350.4530334472656,\n",
       " 350.30267333984375,\n",
       " 350.152099609375,\n",
       " 350.0013122558594,\n",
       " 349.8503112792969,\n",
       " 349.6990661621094,\n",
       " 349.547607421875,\n",
       " 349.3959655761719,\n",
       " 349.24407958984375,\n",
       " 349.0919494628906,\n",
       " 348.93963623046875,\n",
       " 348.7870788574219,\n",
       " 348.6343078613281,\n",
       " 348.4813232421875,\n",
       " 348.3280944824219,\n",
       " 348.1746520996094,\n",
       " 348.02099609375,\n",
       " 347.8670959472656,\n",
       " 347.7129821777344,\n",
       " 347.5586242675781,\n",
       " 347.404052734375,\n",
       " 347.2492370605469,\n",
       " 347.0942077636719,\n",
       " 346.93896484375,\n",
       " 346.783447265625,\n",
       " 346.62774658203125,\n",
       " 346.4718017578125,\n",
       " 346.31561279296875,\n",
       " 346.1591796875,\n",
       " 346.0025329589844,\n",
       " 345.8456726074219,\n",
       " 345.6885681152344,\n",
       " 345.5312194824219,\n",
       " 345.3736267089844,\n",
       " 345.2158203125,\n",
       " 345.0577697753906,\n",
       " 344.89947509765625,\n",
       " 344.7409362792969,\n",
       " 344.5821838378906,\n",
       " 344.4231872558594,\n",
       " 344.2639465332031,\n",
       " 344.1044616699219,\n",
       " 343.94476318359375,\n",
       " 343.7847900390625,\n",
       " 343.6246032714844,\n",
       " 343.46417236328125,\n",
       " 343.3034973144531,\n",
       " 343.142578125,\n",
       " 342.9814147949219,\n",
       " 342.82000732421875,\n",
       " 342.65838623046875,\n",
       " 342.4964904785156,\n",
       " 342.3343811035156,\n",
       " 342.1719970703125,\n",
       " 342.0093994140625,\n",
       " 341.8465270996094,\n",
       " 341.68341064453125,\n",
       " 341.52008056640625,\n",
       " 341.3564758300781,\n",
       " 341.1926574707031,\n",
       " 341.028564453125,\n",
       " 340.8642272949219,\n",
       " 340.69964599609375,\n",
       " 340.5348205566406,\n",
       " 340.3697509765625,\n",
       " 340.2044372558594,\n",
       " 340.03887939453125,\n",
       " 339.873046875,\n",
       " 339.7070007324219,\n",
       " 339.5406799316406,\n",
       " 339.3741455078125,\n",
       " 339.20733642578125,\n",
       " 339.040283203125,\n",
       " 338.8729553222656,\n",
       " 338.7054138183594,\n",
       " 338.53759765625,\n",
       " 338.3695373535156,\n",
       " 338.2012634277344,\n",
       " 338.0326843261719,\n",
       " 337.8638916015625,\n",
       " 337.69482421875,\n",
       " 337.5255432128906,\n",
       " 337.3559875488281,\n",
       " 337.1861572265625,\n",
       " 337.01611328125,\n",
       " 336.8457946777344,\n",
       " 336.6752624511719,\n",
       " 336.50445556640625,\n",
       " 336.3333740234375,\n",
       " 336.1620788574219,\n",
       " 335.9905090332031,\n",
       " 335.8186950683594,\n",
       " 335.6466369628906,\n",
       " 335.47430419921875,\n",
       " 335.3017578125,\n",
       " 335.1289367675781,\n",
       " 334.95587158203125,\n",
       " 334.78253173828125,\n",
       " 334.6089782714844,\n",
       " 334.4351501464844,\n",
       " 334.2610778808594,\n",
       " 334.0867614746094,\n",
       " 333.91217041015625,\n",
       " 333.7373352050781,\n",
       " 333.5622863769531,\n",
       " 333.3869323730469,\n",
       " 333.21136474609375,\n",
       " 333.0355529785156,\n",
       " 332.8594665527344,\n",
       " 332.6831359863281,\n",
       " 332.5065612792969,\n",
       " 332.3297424316406,\n",
       " 332.1526794433594,\n",
       " 331.975341796875,\n",
       " 331.79779052734375,\n",
       " 331.6199645996094,\n",
       " 331.44189453125,\n",
       " 331.2635803222656,\n",
       " 331.08502197265625,\n",
       " 330.9062194824219,\n",
       " 330.7271728515625,\n",
       " 330.5478820800781,\n",
       " 330.3683166503906,\n",
       " 330.18853759765625,\n",
       " 330.00848388671875,\n",
       " 329.8282165527344,\n",
       " 329.6476745605469,\n",
       " 329.4669189453125,\n",
       " 329.2859191894531,\n",
       " 329.1046447753906,\n",
       " 328.92315673828125,\n",
       " 328.7414245605469,\n",
       " 328.5594177246094,\n",
       " 328.377197265625,\n",
       " 328.1947326660156,\n",
       " 328.01202392578125,\n",
       " 327.8291015625,\n",
       " 327.6459045410156,\n",
       " 327.4624938964844,\n",
       " 327.2788391113281,\n",
       " 327.0949401855469,\n",
       " 326.9107971191406,\n",
       " 326.7264404296875,\n",
       " 326.54180908203125,\n",
       " 326.35699462890625,\n",
       " 326.1719055175781,\n",
       " 325.9866027832031,\n",
       " 325.8010559082031,\n",
       " 325.61529541015625,\n",
       " 325.4292907714844,\n",
       " 325.2430725097656,\n",
       " 325.0566101074219,\n",
       " 324.8699035644531,\n",
       " 324.6829833984375,\n",
       " 324.495849609375,\n",
       " 324.3084716796875,\n",
       " 324.1208801269531,\n",
       " 323.93304443359375,\n",
       " 323.7450256347656,\n",
       " 323.5567321777344,\n",
       " 323.3682556152344,\n",
       " 323.1795349121094,\n",
       " 322.9906005859375,\n",
       " 322.80145263671875,\n",
       " 322.6120910644531,\n",
       " 322.4224853515625,\n",
       " 322.2326965332031,\n",
       " 322.0426940917969,\n",
       " 321.8524475097656,\n",
       " 321.6619873046875,\n",
       " 321.4713439941406,\n",
       " 321.2804870605469,\n",
       " 321.0893859863281,\n",
       " 320.8981018066406,\n",
       " 320.70660400390625,\n",
       " 320.514892578125,\n",
       " 320.322998046875,\n",
       " 320.1308898925781,\n",
       " 319.9385681152344,\n",
       " 319.7460632324219,\n",
       " 319.5533447265625,\n",
       " 319.36041259765625,\n",
       " 319.16729736328125,\n",
       " 318.9739990234375,\n",
       " 318.7804870605469,\n",
       " 318.5867614746094,\n",
       " 318.39288330078125,\n",
       " 318.19879150390625,\n",
       " 318.0045166015625,\n",
       " 317.8100280761719,\n",
       " 317.6153869628906,\n",
       " 317.4205322265625,\n",
       " 317.2254943847656,\n",
       " 317.0302734375,\n",
       " 316.83489990234375,\n",
       " 316.6393127441406,\n",
       " 316.44354248046875,\n",
       " 316.24761962890625,\n",
       " 316.051513671875,\n",
       " 315.855224609375,\n",
       " 315.65875244140625,\n",
       " 315.4621276855469,\n",
       " 315.26531982421875,\n",
       " 315.068359375,\n",
       " 314.8712158203125,\n",
       " 314.67388916015625,\n",
       " 314.4764404296875,\n",
       " 314.27880859375,\n",
       " 314.08099365234375,\n",
       " 313.883056640625,\n",
       " 313.6849365234375,\n",
       " 313.4866638183594,\n",
       " 313.2882385253906,\n",
       " 313.08966064453125,\n",
       " 312.89093017578125,\n",
       " 312.6920471191406,\n",
       " 312.4930419921875,\n",
       " 312.2938537597656,\n",
       " 312.09454345703125,\n",
       " 311.89508056640625,\n",
       " 311.6954650878906,\n",
       " 311.4957275390625,\n",
       " 311.2958679199219,\n",
       " 311.0958557128906,\n",
       " 310.89569091796875,\n",
       " 310.6954040527344,\n",
       " 310.4949951171875,\n",
       " 310.2944641113281,\n",
       " 310.09381103515625,\n",
       " 309.89300537109375,\n",
       " 309.6921081542969,\n",
       " 309.4910583496094,\n",
       " 309.2899169921875,\n",
       " 309.0886535644531,\n",
       " 308.88726806640625,\n",
       " 308.6857604980469,\n",
       " 308.484130859375,\n",
       " 308.2824401855469,\n",
       " 308.0805969238281,\n",
       " 307.878662109375,\n",
       " 307.6766357421875,\n",
       " 307.4744873046875,\n",
       " 307.2722473144531,\n",
       " 307.0699157714844,\n",
       " 306.86749267578125,\n",
       " 306.66497802734375,\n",
       " 306.46234130859375,\n",
       " 306.2596435546875,\n",
       " 306.0568542480469,\n",
       " 305.8539733886719,\n",
       " 305.6510009765625,\n",
       " 305.4479675292969,\n",
       " 305.2448425292969,\n",
       " 305.0416564941406,\n",
       " 304.83837890625,\n",
       " 304.6350402832031,\n",
       " 304.4316101074219,\n",
       " 304.2281188964844,\n",
       " 304.0245666503906,\n",
       " 303.8209533691406,\n",
       " 303.6172790527344,\n",
       " 303.4135437011719,\n",
       " 303.2097473144531,\n",
       " 303.0058898925781,\n",
       " 302.8019714355469,\n",
       " 302.5980224609375,\n",
       " 302.3940124511719,\n",
       " 302.18994140625,\n",
       " 301.98583984375,\n",
       " 301.7817077636719,\n",
       " 301.5775146484375,\n",
       " 301.373291015625,\n",
       " 301.1690368652344,\n",
       " 300.9647521972656,\n",
       " 300.7604064941406,\n",
       " 300.5560607910156,\n",
       " 300.3516845703125,\n",
       " 300.14727783203125,\n",
       " 299.9428405761719,\n",
       " 299.7383728027344,\n",
       " 299.5339050292969,\n",
       " 299.3294372558594,\n",
       " 299.12493896484375,\n",
       " 298.92041015625,\n",
       " 298.71588134765625,\n",
       " 298.5113525390625,\n",
       " 298.30682373046875,\n",
       " 298.1022644042969,\n",
       " 297.8977355957031,\n",
       " 297.69317626953125,\n",
       " 297.4886474609375,\n",
       " 297.28411865234375,\n",
       " 297.07958984375,\n",
       " 296.87506103515625,\n",
       " 296.6705627441406,\n",
       " 296.4660949707031,\n",
       " 296.2616271972656,\n",
       " 296.0571594238281,\n",
       " 295.85272216796875,\n",
       " 295.6483154296875,\n",
       " 295.4439392089844,\n",
       " 295.2395935058594,\n",
       " 295.0352478027344,\n",
       " 294.8309631347656,\n",
       " 294.626708984375,\n",
       " 294.4224853515625,\n",
       " 294.2182922363281,\n",
       " 294.01416015625,\n",
       " 293.81005859375,\n",
       " 293.6059875488281,\n",
       " 293.4019775390625,\n",
       " 293.1980285644531,\n",
       " 292.9941101074219,\n",
       " 292.7902526855469,\n",
       " 292.5864562988281,\n",
       " 292.3827209472656,\n",
       " 292.1790466308594,\n",
       " 291.9754333496094,\n",
       " 291.7718811035156,\n",
       " 291.5683898925781,\n",
       " 291.3649597167969,\n",
       " 291.16162109375,\n",
       " 290.9583435058594,\n",
       " 290.7551574707031,\n",
       " 290.5520324707031,\n",
       " 290.3489990234375,\n",
       " 290.1460266113281,\n",
       " 289.9431457519531,\n",
       " 289.7403564453125,\n",
       " 289.53765869140625,\n",
       " 289.33502197265625,\n",
       " 289.13250732421875,\n",
       " 288.9300842285156,\n",
       " 288.7277526855469,\n",
       " 288.5255126953125,\n",
       " 288.3233642578125,\n",
       " 288.121337890625,\n",
       " 287.9194030761719,\n",
       " 287.7175598144531,\n",
       " 287.515869140625,\n",
       " 287.3142395019531,\n",
       " 287.11273193359375,\n",
       " 286.9113464355469,\n",
       " 286.7100830078125,\n",
       " 286.5089416503906,\n",
       " 286.3078918457031,\n",
       " 286.10699462890625,\n",
       " 285.90618896484375,\n",
       " 285.7055358886719,\n",
       " 285.5050048828125,\n",
       " 285.3045959472656,\n",
       " 285.10430908203125,\n",
       " 284.9041442871094,\n",
       " 284.7041320800781,\n",
       " 284.5042724609375,\n",
       " 284.3045349121094,\n",
       " 284.10491943359375,\n",
       " 283.90545654296875,\n",
       " 283.7061462402344,\n",
       " 283.5069580078125,\n",
       " 283.3079528808594,\n",
       " 283.10906982421875,\n",
       " 282.91033935546875,\n",
       " 282.7117614746094,\n",
       " 282.5133361816406,\n",
       " 282.3150634765625,\n",
       " 282.116943359375,\n",
       " 281.91900634765625,\n",
       " 281.72119140625,\n",
       " 281.5235595703125,\n",
       " 281.32611083984375,\n",
       " 281.1287841796875,\n",
       " 280.931640625,\n",
       " 280.73468017578125,\n",
       " 280.5378723144531,\n",
       " 280.34124755859375,\n",
       " 280.144775390625,\n",
       " 279.948486328125,\n",
       " 279.75238037109375,\n",
       " 279.55645751953125,\n",
       " 279.3606872558594,\n",
       " 279.16510009765625,\n",
       " 278.9697265625,\n",
       " 278.7745056152344,\n",
       " 278.5794677734375,\n",
       " 278.3846130371094,\n",
       " 278.1899719238281,\n",
       " 277.9954833984375,\n",
       " 277.80120849609375,\n",
       " 277.60711669921875,\n",
       " 277.4132385253906,\n",
       " 277.2195129394531,\n",
       " 277.0260009765625,\n",
       " 276.83270263671875,\n",
       " 276.63958740234375,\n",
       " 276.4466552734375,\n",
       " 276.2539367675781,\n",
       " 276.0614318847656,\n",
       " 275.8691101074219,\n",
       " 275.677001953125,\n",
       " 275.485107421875,\n",
       " 275.29339599609375,\n",
       " 275.1018981933594,\n",
       " 274.9106140136719,\n",
       " 274.7195129394531,\n",
       " 274.5286560058594,\n",
       " 274.3380126953125,\n",
       " 274.1475524902344,\n",
       " 273.9573059082031,\n",
       " 273.7673034667969,\n",
       " 273.5775146484375,\n",
       " 273.3879089355469,\n",
       " 273.19854736328125,\n",
       " 273.0093994140625,\n",
       " 272.8204650878906,\n",
       " 272.6317443847656,\n",
       " 272.4432678222656,\n",
       " 272.2549743652344,\n",
       " 272.06695556640625,\n",
       " 271.8791198730469,\n",
       " 271.6915283203125,\n",
       " 271.504150390625,\n",
       " 271.3170166015625,\n",
       " 271.1300964355469,\n",
       " 270.9433898925781,\n",
       " 270.7569274902344,\n",
       " 270.5707092285156,\n",
       " 270.38470458984375,\n",
       " 270.1989440917969,\n",
       " 270.0133972167969,\n",
       " 269.8280944824219,\n",
       " 269.64300537109375,\n",
       " 269.45819091796875,\n",
       " 269.2735595703125,\n",
       " 269.0892028808594,\n",
       " 268.9050598144531,\n",
       " 268.7211608886719,\n",
       " 268.5375061035156,\n",
       " 268.3540954589844,\n",
       " 268.1708984375,\n",
       " 267.98797607421875,\n",
       " 267.8052673339844,\n",
       " 267.622802734375,\n",
       " 267.4405822753906,\n",
       " 267.2585754394531,\n",
       " 267.07684326171875,\n",
       " 266.8953552246094,\n",
       " 266.7140808105469,\n",
       " 266.5330810546875,\n",
       " 266.3523254394531,\n",
       " 266.1717834472656,\n",
       " 265.99151611328125,\n",
       " 265.81146240234375,\n",
       " 265.6316833496094,\n",
       " 265.4521179199219,\n",
       " 265.2728271484375,\n",
       " 265.0937805175781,\n",
       " 264.91497802734375,\n",
       " 264.7364196777344,\n",
       " 264.55810546875,\n",
       " 264.3800354003906,\n",
       " 264.20220947265625,\n",
       " 264.024658203125,\n",
       " 263.8473205566406,\n",
       " 263.6702575683594,\n",
       " 263.4934387207031,\n",
       " 263.3168640136719,\n",
       " 263.1405334472656,\n",
       " 262.9644470214844,\n",
       " 262.78863525390625,\n",
       " 262.6130676269531,\n",
       " 262.4377136230469,\n",
       " 262.2626647949219,\n",
       " 262.08782958984375,\n",
       " 261.9132385253906,\n",
       " 261.7389221191406,\n",
       " 261.5648498535156,\n",
       " 261.3910217285156,\n",
       " 261.21746826171875,\n",
       " 261.04412841796875,\n",
       " 260.8710632324219,\n",
       " 260.6982421875,\n",
       " 260.52569580078125,\n",
       " 260.3533630371094,\n",
       " 260.1813049316406,\n",
       " 260.0094909667969,\n",
       " 259.8379211425781,\n",
       " 259.6666259765625,\n",
       " 259.49554443359375,\n",
       " 259.3247375488281,\n",
       " 259.1542053222656,\n",
       " 258.98388671875,\n",
       " 258.8138427734375,\n",
       " 258.6440124511719,\n",
       " 258.4744567871094,\n",
       " 258.30517578125,\n",
       " 258.1361083984375,\n",
       " 257.9673156738281,\n",
       " 257.7987365722656,\n",
       " 257.6304626464844,\n",
       " 257.46240234375,\n",
       " 257.2945861816406,\n",
       " 257.1270446777344,\n",
       " 256.959716796875,\n",
       " 256.79266357421875,\n",
       " 256.6258544921875,\n",
       " 256.4593200683594,\n",
       " 256.2929992675781,\n",
       " 256.126953125,\n",
       " 255.96112060546875,\n",
       " 255.79556274414062,\n",
       " 255.6302490234375,\n",
       " 255.4651641845703,\n",
       " 255.30035400390625,\n",
       " 255.13577270507812,\n",
       " 254.971435546875,\n",
       " 254.80735778808594,\n",
       " 254.64352416992188,\n",
       " 254.47991943359375,\n",
       " 254.3165740966797,\n",
       " 254.15347290039062,\n",
       " 253.99061584472656,\n",
       " 253.8280029296875,\n",
       " 253.66563415527344,\n",
       " 253.50350952148438,\n",
       " 253.34161376953125,\n",
       " 253.1799774169922,\n",
       " 253.01858520507812,\n",
       " 252.857421875,\n",
       " 252.69650268554688,\n",
       " 252.53582763671875,\n",
       " 252.37539672851562,\n",
       " 252.2152099609375,\n",
       " 252.0552520751953,\n",
       " 251.89553833007812,\n",
       " 251.73605346679688,\n",
       " 251.57681274414062,\n",
       " 251.41781616210938,\n",
       " 251.25906372070312,\n",
       " 251.1005401611328,\n",
       " 250.94224548339844,\n",
       " 250.78419494628906,\n",
       " 250.62637329101562,\n",
       " 250.4687957763672,\n",
       " 250.3114471435547,\n",
       " 250.15432739257812,\n",
       " 249.99745178222656,\n",
       " 249.84080505371094,\n",
       " 249.68438720703125,\n",
       " 249.52821350097656,\n",
       " 249.37225341796875,\n",
       " 249.21653747558594,\n",
       " 249.06105041503906,\n",
       " 248.90579223632812,\n",
       " 248.75076293945312,\n",
       " 248.595947265625,\n",
       " 248.44137573242188,\n",
       " 248.2870330810547,\n",
       " 248.13290405273438,\n",
       " 247.97901916503906,\n",
       " 247.82534790039062,\n",
       " 247.67190551757812,\n",
       " 247.5186767578125,\n",
       " 247.36569213867188,\n",
       " 247.21292114257812,\n",
       " 247.06036376953125,\n",
       " 246.9080352783203,\n",
       " 246.7559356689453,\n",
       " 246.6040496826172,\n",
       " 246.45237731933594,\n",
       " 246.30093383789062,\n",
       " 246.1497039794922,\n",
       " 245.99868774414062,\n",
       " 245.847900390625,\n",
       " 245.69732666015625,\n",
       " 245.54696655273438,\n",
       " 245.39682006835938,\n",
       " 245.24688720703125,\n",
       " 245.09716796875,\n",
       " 244.9476776123047,\n",
       " 244.7983856201172,\n",
       " 244.64930725097656,\n",
       " 244.50042724609375,\n",
       " 244.35177612304688,\n",
       " 244.2033233642578,\n",
       " 244.0550994873047,\n",
       " 243.9070587158203,\n",
       " 243.75924682617188,\n",
       " 243.61163330078125,\n",
       " 243.46421813964844,\n",
       " 243.3170166015625,\n",
       " 243.17001342773438,\n",
       " 243.02322387695312,\n",
       " 242.8766326904297,\n",
       " 242.73023986816406,\n",
       " 242.58404541015625,\n",
       " 242.4380645751953,\n",
       " 242.2922821044922,\n",
       " 242.14669799804688,\n",
       " 242.00131225585938,\n",
       " 241.85610961914062,\n",
       " 241.71112060546875,\n",
       " 241.5663299560547,\n",
       " 241.42172241210938,\n",
       " 241.27731323242188,\n",
       " 241.1331024169922,\n",
       " 240.9890899658203,\n",
       " 240.8452606201172,\n",
       " 240.70162963867188,\n",
       " 240.5581817626953,\n",
       " 240.41493225097656,\n",
       " 240.27186584472656,\n",
       " 240.12899780273438]"
      ]
     },
     "execution_count": 9,
     "metadata": {},
     "output_type": "execute_result"
    }
   ],
   "source": [
    "lons1d=lons1d.tolist()\n",
    "lons1d"
   ]
  },
  {
   "cell_type": "code",
   "execution_count": null,
   "metadata": {},
   "outputs": [],
   "source": []
  },
  {
   "cell_type": "code",
   "execution_count": 34,
   "metadata": {},
   "outputs": [],
   "source": [
    "m = Basemap(projection='merc',llcrnrlon=np.min(lons1d),llcrnrlat=np.min(lats1d),urcrnrlon=np.max(lons1d),urcrnrlat=np.max(lats1d),resolution='i') # projection, lat/lon extents and resolution of polygons to draw\n",
    "# resolutions: c - crude, l - low, i - intermediate, h - high, f - full"
   ]
  },
  {
   "cell_type": "raw",
   "metadata": {},
   "source": [
    "m = Basemap(width=12000000,height=9000000,\n",
    "            rsphere=(6378137.00,6356752.3142),\\\n",
    "            resolution='l',area_thresh=1000.,projection='lcc',\\\n",
    "            lat_1=22.,lat_2=25,lat_0=50,lon_0=-62.)"
   ]
  },
  {
   "cell_type": "code",
   "execution_count": 40,
   "metadata": {},
   "outputs": [],
   "source": [
    "# Because our lon and lat variables are 1D,\n",
    "# use meshgrid to create 2D arrays\n",
    "# Not necessary if coordinates are already in 2D arrays.\n",
    "\n",
    "lon, lat = np.meshgrid(lons1d, lats1d)\n",
    "xi, yi = m(lon, lat)"
   ]
  },
  {
   "cell_type": "code",
   "execution_count": 41,
   "metadata": {},
   "outputs": [
    {
     "data": {
      "image/png": "[encoded data removed]",
      "text/plain": [
       "<Figure size 432x288 with 1 Axes>"
      ]
     },
     "metadata": {},
     "output_type": "display_data"
    }
   ],
   "source": [
    "# Plot Data\n",
    "cs = m.pcolor(xi,yi,np.squeeze(orog))"
   ]
  },
  {
   "cell_type": "code",
   "execution_count": 37,
   "metadata": {
    "collapsed": true
   },
   "outputs": [
    {
     "data": {
      "text/plain": [
       "<matplotlib.collections.PolyCollection at 0x7ff2b0fa9b38>"
      ]
     },
     "execution_count": 37,
     "metadata": {},
     "output_type": "execute_result"
    },
    {
     "data": {
      "image/png": "[encoded data removed]",
      "text/plain": [
       "<Figure size 432x288 with 1 Axes>"
      ]
     },
     "metadata": {},
     "output_type": "display_data"
    }
   ],
   "source": [
    "\n",
    "m.drawcoastlines()\n",
    "m.drawstates()\n",
    "m.drawcountries()\n",
    "m.drawlsmask(land_color='Linen', ocean_color='#CCFFFF') # can use HTML names or codes for colors\n",
    "m.drawcounties() # you can even add counties (and other shapefiles!)"
   ]
  },
  {
   "cell_type": "code",
   "execution_count": 50,
   "metadata": {},
   "outputs": [
    {
     "data": {
      "text/plain": [
       "<Figure size 1296x864 with 0 Axes>"
      ]
     },
     "execution_count": 50,
     "metadata": {},
     "output_type": "execute_result"
    },
    {
     "data": {
      "text/plain": [
       "<Figure size 1296x864 with 0 Axes>"
      ]
     },
     "metadata": {},
     "output_type": "display_data"
    }
   ],
   "source": [
    "plt.figure(figsize=(18,12))"
   ]
  },
  {
   "cell_type": "code",
   "execution_count": 52,
   "metadata": {},
   "outputs": [
    {
     "data": {
      "image/png": "[encoded data removed]",
      "text/plain": [
       "<Figure size 1296x864 with 2 Axes>"
      ]
     },
     "metadata": {
      "needs_background": "light"
     },
     "output_type": "display_data"
    }
   ],
   "source": [
    "\n",
    "plt.figure(figsize=(18,12))\n",
    "map=Basemap(projection='mill',lat_ts=10, \\\n",
    "  llcrnrlon=np.nanmin(lon),urcrnrlon=np.nanmax(lon), \\\n",
    "  llcrnrlat=lat.min(),urcrnrlat=lat.max(), \\\n",
    "  resolution='c')\n",
    "#Convert the lat/lon values to x/y projections.\n",
    "lon, lat = np.meshgrid(lons1d, lats1d)\n",
    "xi, yi = m(lon, lat)\n",
    "\n",
    "#Next, plot the field using the fast pcolormesh routine and set the colormap to jet.\n",
    "#cs = m.pcolormesh(xi,yi,orog,shading='flat', \\\n",
    " # cmap=plt.cm.jet)\n",
    "\n",
    "cs = m.pcolor(xi,yi,np.squeeze(orog), cmap=plt.cm.jet)\n",
    "#Add a coastline and axis values.\n",
    "map.drawcoastlines()\n",
    "map.fillcontinents()\n",
    "map.drawmapboundary()\n",
    "map.drawparallels(np.arange(np.min(lats1d),np.max(lats1d),10.), \\\n",
    "  labels=[1,0,0,0])\n",
    "map.drawmeridians(np.arange(np.min(lons1d),np.max(lons1d),20.), \\\n",
    "  labels=[0,0,0,1])\n",
    "#Add a colorbar and title, and then show the plot.\n",
    "colorbar(cs)\n",
    "plt.title('Example')\n",
    "plt.show()\n"
   ]
  },
  {
   "cell_type": "code",
   "execution_count": null,
   "metadata": {},
   "outputs": [],
   "source": []
  }
 ],
 "metadata": {
  "kernelspec": {
   "display_name": "Python 3 (ipykernel)",
   "language": "python",
   "name": "python3"
  },
  "language_info": {
   "codemirror_mode": {
    "name": "ipython",
    "version": 3
   },
   "file_extension": ".py",
   "mimetype": "text/x-python",
   "name": "python",
   "nbconvert_exporter": "python",
   "pygments_lexer": "ipython3",
   "version": "3.9.12"
  }
 },
 "nbformat": 4,
 "nbformat_minor": 2
}
